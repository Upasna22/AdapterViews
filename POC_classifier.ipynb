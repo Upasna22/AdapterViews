{
  "nbformat": 4,
  "nbformat_minor": 0,
  "metadata": {
    "colab": {
      "name": "Untitled6.ipynb",
      "provenance": [],
      "collapsed_sections": [],
      "toc_visible": true,
      "authorship_tag": "ABX9TyNMBg203ngErLd4f3IgufLz",
      "include_colab_link": true
    },
    "kernelspec": {
      "name": "python3",
      "display_name": "Python 3"
    }
  },
  "cells": [
    {
      "cell_type": "markdown",
      "metadata": {
        "id": "view-in-github",
        "colab_type": "text"
      },
      "source": [
        "<a href=\"https://colab.research.google.com/github/Upasna22/AdapterViews/blob/master/POC_classifier.ipynb\" target=\"_parent\"><img src=\"https://colab.research.google.com/assets/colab-badge.svg\" alt=\"Open In Colab\"/></a>"
      ]
    },
    {
      "cell_type": "code",
      "metadata": {
        "id": "uS-Yx-NHC287",
        "colab_type": "code",
        "colab": {}
      },
      "source": [
        "import pandas as pd\n",
        "import numpy as np"
      ],
      "execution_count": 0,
      "outputs": []
    },
    {
      "cell_type": "code",
      "metadata": {
        "id": "7P_TIO76DUrQ",
        "colab_type": "code",
        "colab": {}
      },
      "source": [
        "train_df = pd.read_csv('POC-MCCdata.csv')"
      ],
      "execution_count": 0,
      "outputs": []
    },
    {
      "cell_type": "code",
      "metadata": {
        "id": "MJPFSHdEDe4H",
        "colab_type": "code",
        "outputId": "fdda0ccd-c2be-4c14-8580-8e5dddcc4a27",
        "colab": {
          "base_uri": "https://localhost:8080/",
          "height": 343
        }
      },
      "source": [
        "train_df.head()"
      ],
      "execution_count": 78,
      "outputs": [
        {
          "output_type": "execute_result",
          "data": {
            "text/html": [
              "<div>\n",
              "<style scoped>\n",
              "    .dataframe tbody tr th:only-of-type {\n",
              "        vertical-align: middle;\n",
              "    }\n",
              "\n",
              "    .dataframe tbody tr th {\n",
              "        vertical-align: top;\n",
              "    }\n",
              "\n",
              "    .dataframe thead th {\n",
              "        text-align: right;\n",
              "    }\n",
              "</style>\n",
              "<table border=\"1\" class=\"dataframe\">\n",
              "  <thead>\n",
              "    <tr style=\"text-align: right;\">\n",
              "      <th></th>\n",
              "      <th>TableTypeId</th>\n",
              "      <th>IndustryTemplateCode</th>\n",
              "      <th>EffectiveDate</th>\n",
              "      <th>CreateDate</th>\n",
              "      <th>UpdateDate</th>\n",
              "      <th>FileId</th>\n",
              "      <th>CompanyId</th>\n",
              "      <th>MsId</th>\n",
              "      <th>MS ReportedName</th>\n",
              "      <th>Company ReportedName</th>\n",
              "      <th>SectorName</th>\n",
              "      <th>IndustryName</th>\n",
              "      <th>AMItemId</th>\n",
              "      <th>FileSource</th>\n",
              "      <th>CountryId</th>\n",
              "    </tr>\n",
              "  </thead>\n",
              "  <tbody>\n",
              "    <tr>\n",
              "      <th>0</th>\n",
              "      <td>1</td>\n",
              "      <td>N</td>\n",
              "      <td>2016-08-05 00:00:00.000</td>\n",
              "      <td>2017-12-20 20:45:56.530</td>\n",
              "      <td>2017-12-20 20:52:24.573</td>\n",
              "      <td>31953224</td>\n",
              "      <td>0C0000099P</td>\n",
              "      <td>V2ID000003</td>\n",
              "      <td>ASSETS</td>\n",
              "      <td>ASSETS</td>\n",
              "      <td>Energy</td>\n",
              "      <td>Oil &amp; Gas E&amp;P</td>\n",
              "      <td>6643918</td>\n",
              "      <td>2</td>\n",
              "      <td>CAN</td>\n",
              "    </tr>\n",
              "    <tr>\n",
              "      <th>1</th>\n",
              "      <td>1</td>\n",
              "      <td>N</td>\n",
              "      <td>2016-08-05 00:00:00.000</td>\n",
              "      <td>2017-12-20 20:45:56.530</td>\n",
              "      <td>2017-12-20 20:52:28.317</td>\n",
              "      <td>31953224</td>\n",
              "      <td>0C0000099P</td>\n",
              "      <td>V2ID000003</td>\n",
              "      <td>Current assets</td>\n",
              "      <td>Current assets</td>\n",
              "      <td>Energy</td>\n",
              "      <td>Oil &amp; Gas E&amp;P</td>\n",
              "      <td>6643919</td>\n",
              "      <td>2</td>\n",
              "      <td>CAN</td>\n",
              "    </tr>\n",
              "    <tr>\n",
              "      <th>2</th>\n",
              "      <td>1</td>\n",
              "      <td>N</td>\n",
              "      <td>2016-08-05 00:00:00.000</td>\n",
              "      <td>2017-12-20 20:45:56.530</td>\n",
              "      <td>2017-12-20 21:09:52.720</td>\n",
              "      <td>31953224</td>\n",
              "      <td>0C0000099P</td>\n",
              "      <td>IFBS200660</td>\n",
              "      <td>Trade and other receivables</td>\n",
              "      <td>Trade and other receivables</td>\n",
              "      <td>Energy</td>\n",
              "      <td>Oil &amp; Gas E&amp;P</td>\n",
              "      <td>6643920</td>\n",
              "      <td>2</td>\n",
              "      <td>CAN</td>\n",
              "    </tr>\n",
              "    <tr>\n",
              "      <th>3</th>\n",
              "      <td>1</td>\n",
              "      <td>N</td>\n",
              "      <td>2016-08-05 00:00:00.000</td>\n",
              "      <td>2017-12-20 20:45:56.530</td>\n",
              "      <td>2017-12-20 21:10:03.430</td>\n",
              "      <td>31953224</td>\n",
              "      <td>0C0000099P</td>\n",
              "      <td>IFBS100688</td>\n",
              "      <td>Prepaid expenses and deposits</td>\n",
              "      <td>Prepaid expenses and deposits</td>\n",
              "      <td>Energy</td>\n",
              "      <td>Oil &amp; Gas E&amp;P</td>\n",
              "      <td>6643921</td>\n",
              "      <td>2</td>\n",
              "      <td>CAN</td>\n",
              "    </tr>\n",
              "    <tr>\n",
              "      <th>4</th>\n",
              "      <td>1</td>\n",
              "      <td>N</td>\n",
              "      <td>2016-08-05 00:00:00.000</td>\n",
              "      <td>2017-12-20 20:45:56.530</td>\n",
              "      <td>2017-12-20 20:45:56.530</td>\n",
              "      <td>31953224</td>\n",
              "      <td>0C0000099P</td>\n",
              "      <td>IFBS002631</td>\n",
              "      <td>Derivative asset</td>\n",
              "      <td>Derivative asset</td>\n",
              "      <td>Energy</td>\n",
              "      <td>Oil &amp; Gas E&amp;P</td>\n",
              "      <td>6643922</td>\n",
              "      <td>2</td>\n",
              "      <td>CAN</td>\n",
              "    </tr>\n",
              "  </tbody>\n",
              "</table>\n",
              "</div>"
            ],
            "text/plain": [
              "   TableTypeId IndustryTemplateCode  ... FileSource CountryId\n",
              "0            1                    N  ...          2       CAN\n",
              "1            1                    N  ...          2       CAN\n",
              "2            1                    N  ...          2       CAN\n",
              "3            1                    N  ...          2       CAN\n",
              "4            1                    N  ...          2       CAN\n",
              "\n",
              "[5 rows x 15 columns]"
            ]
          },
          "metadata": {
            "tags": []
          },
          "execution_count": 78
        }
      ]
    },
    {
      "cell_type": "code",
      "metadata": {
        "id": "yubalLj2Dg46",
        "colab_type": "code",
        "outputId": "1847205d-5f86-4b59-9a64-cd9d1fdf8a7a",
        "colab": {
          "base_uri": "https://localhost:8080/",
          "height": 102
        }
      },
      "source": [
        "train_df['MsId'].describe()"
      ],
      "execution_count": 79,
      "outputs": [
        {
          "output_type": "execute_result",
          "data": {
            "text/plain": [
              "count         237911\n",
              "unique           240\n",
              "top       V2ID000003\n",
              "freq           47051\n",
              "Name: MsId, dtype: object"
            ]
          },
          "metadata": {
            "tags": []
          },
          "execution_count": 79
        }
      ]
    },
    {
      "cell_type": "markdown",
      "metadata": {
        "id": "NsuDggvLD_0U",
        "colab_type": "text"
      },
      "source": [
        "Label encoding\n"
      ]
    },
    {
      "cell_type": "code",
      "metadata": {
        "colab_type": "code",
        "id": "pJJGlQdXFO8y",
        "colab": {}
      },
      "source": [
        ""
      ],
      "execution_count": 0,
      "outputs": []
    },
    {
      "cell_type": "code",
      "metadata": {
        "id": "SetOE-ndEPd8",
        "colab_type": "code",
        "colab": {}
      },
      "source": [
        "from sklearn.preprocessing import LabelEncoder\n",
        "def LabelEncoding(X):\n",
        "  labelEncodedTrain = pd.DataFrame()\n",
        "  LE = LabelEncoder()\n",
        "  for col in X.columns:\n",
        "    if(X[col].dtype == 'object'):\n",
        "      labelEncodedTrain[col] = LE.fit_transform(X[col])\n",
        "    else:\n",
        "      labelEncodedTrain[col] = X[col]\n",
        "  print('Label Encoded Train looks like \\n{}'.format(labelEncodedTrain.head(15)))\n",
        "  print(labelEncodedTrain.shape)"
      ],
      "execution_count": 0,
      "outputs": []
    },
    {
      "cell_type": "code",
      "metadata": {
        "id": "araa9zX5HRd7",
        "colab_type": "code",
        "colab": {}
      },
      "source": [
        "train_df = train_df.drop(['EffectiveDate', 'CreateDate', 'UpdateDate'], axis=1)"
      ],
      "execution_count": 0,
      "outputs": []
    },
    {
      "cell_type": "code",
      "metadata": {
        "id": "h30x4IQZs4gX",
        "colab_type": "code",
        "colab": {
          "base_uri": "https://localhost:8080/",
          "height": 204
        },
        "outputId": "37ee47b8-4e73-4242-e251-612b66d6e588"
      },
      "source": [
        ""
      ],
      "execution_count": 82,
      "outputs": [
        {
          "output_type": "execute_result",
          "data": {
            "text/html": [
              "<div>\n",
              "<style scoped>\n",
              "    .dataframe tbody tr th:only-of-type {\n",
              "        vertical-align: middle;\n",
              "    }\n",
              "\n",
              "    .dataframe tbody tr th {\n",
              "        vertical-align: top;\n",
              "    }\n",
              "\n",
              "    .dataframe thead th {\n",
              "        text-align: right;\n",
              "    }\n",
              "</style>\n",
              "<table border=\"1\" class=\"dataframe\">\n",
              "  <thead>\n",
              "    <tr style=\"text-align: right;\">\n",
              "      <th></th>\n",
              "      <th>TableTypeId</th>\n",
              "      <th>IndustryTemplateCode</th>\n",
              "      <th>FileId</th>\n",
              "      <th>CompanyId</th>\n",
              "      <th>MsId</th>\n",
              "      <th>MS ReportedName</th>\n",
              "      <th>Company ReportedName</th>\n",
              "      <th>SectorName</th>\n",
              "      <th>IndustryName</th>\n",
              "      <th>AMItemId</th>\n",
              "      <th>FileSource</th>\n",
              "      <th>CountryId</th>\n",
              "    </tr>\n",
              "  </thead>\n",
              "  <tbody>\n",
              "    <tr>\n",
              "      <th>0</th>\n",
              "      <td>1</td>\n",
              "      <td>N</td>\n",
              "      <td>31953224</td>\n",
              "      <td>0C0000099P</td>\n",
              "      <td>V2ID000003</td>\n",
              "      <td>ASSETS</td>\n",
              "      <td>ASSETS</td>\n",
              "      <td>Energy</td>\n",
              "      <td>Oil &amp; Gas E&amp;P</td>\n",
              "      <td>6643918</td>\n",
              "      <td>2</td>\n",
              "      <td>CAN</td>\n",
              "    </tr>\n",
              "    <tr>\n",
              "      <th>1</th>\n",
              "      <td>1</td>\n",
              "      <td>N</td>\n",
              "      <td>31953224</td>\n",
              "      <td>0C0000099P</td>\n",
              "      <td>V2ID000003</td>\n",
              "      <td>Current assets</td>\n",
              "      <td>Current assets</td>\n",
              "      <td>Energy</td>\n",
              "      <td>Oil &amp; Gas E&amp;P</td>\n",
              "      <td>6643919</td>\n",
              "      <td>2</td>\n",
              "      <td>CAN</td>\n",
              "    </tr>\n",
              "    <tr>\n",
              "      <th>2</th>\n",
              "      <td>1</td>\n",
              "      <td>N</td>\n",
              "      <td>31953224</td>\n",
              "      <td>0C0000099P</td>\n",
              "      <td>IFBS200660</td>\n",
              "      <td>Trade and other receivables</td>\n",
              "      <td>Trade and other receivables</td>\n",
              "      <td>Energy</td>\n",
              "      <td>Oil &amp; Gas E&amp;P</td>\n",
              "      <td>6643920</td>\n",
              "      <td>2</td>\n",
              "      <td>CAN</td>\n",
              "    </tr>\n",
              "    <tr>\n",
              "      <th>3</th>\n",
              "      <td>1</td>\n",
              "      <td>N</td>\n",
              "      <td>31953224</td>\n",
              "      <td>0C0000099P</td>\n",
              "      <td>IFBS100688</td>\n",
              "      <td>Prepaid expenses and deposits</td>\n",
              "      <td>Prepaid expenses and deposits</td>\n",
              "      <td>Energy</td>\n",
              "      <td>Oil &amp; Gas E&amp;P</td>\n",
              "      <td>6643921</td>\n",
              "      <td>2</td>\n",
              "      <td>CAN</td>\n",
              "    </tr>\n",
              "    <tr>\n",
              "      <th>4</th>\n",
              "      <td>1</td>\n",
              "      <td>N</td>\n",
              "      <td>31953224</td>\n",
              "      <td>0C0000099P</td>\n",
              "      <td>IFBS002631</td>\n",
              "      <td>Derivative asset</td>\n",
              "      <td>Derivative asset</td>\n",
              "      <td>Energy</td>\n",
              "      <td>Oil &amp; Gas E&amp;P</td>\n",
              "      <td>6643922</td>\n",
              "      <td>2</td>\n",
              "      <td>CAN</td>\n",
              "    </tr>\n",
              "  </tbody>\n",
              "</table>\n",
              "</div>"
            ],
            "text/plain": [
              "   TableTypeId IndustryTemplateCode    FileId  ... AMItemId FileSource CountryId\n",
              "0            1                    N  31953224  ...  6643918          2       CAN\n",
              "1            1                    N  31953224  ...  6643919          2       CAN\n",
              "2            1                    N  31953224  ...  6643920          2       CAN\n",
              "3            1                    N  31953224  ...  6643921          2       CAN\n",
              "4            1                    N  31953224  ...  6643922          2       CAN\n",
              "\n",
              "[5 rows x 12 columns]"
            ]
          },
          "metadata": {
            "tags": []
          },
          "execution_count": 82
        }
      ]
    },
    {
      "cell_type": "code",
      "metadata": {
        "colab_type": "code",
        "outputId": "27cf27df-d7c4-42a4-b645-c5aea5b997e8",
        "id": "Wxc4w7uTFJWy",
        "colab": {
          "base_uri": "https://localhost:8080/",
          "height": 221
        }
      },
      "source": [
        "category_train_df = train_df.select_dtypes(include=['object']).copy()\n",
        "print(\"cateegorical data is\")\n",
        "category_train_df.head()"
      ],
      "execution_count": 86,
      "outputs": [
        {
          "output_type": "stream",
          "text": [
            "cateegorical data is\n"
          ],
          "name": "stdout"
        },
        {
          "output_type": "execute_result",
          "data": {
            "text/html": [
              "<div>\n",
              "<style scoped>\n",
              "    .dataframe tbody tr th:only-of-type {\n",
              "        vertical-align: middle;\n",
              "    }\n",
              "\n",
              "    .dataframe tbody tr th {\n",
              "        vertical-align: top;\n",
              "    }\n",
              "\n",
              "    .dataframe thead th {\n",
              "        text-align: right;\n",
              "    }\n",
              "</style>\n",
              "<table border=\"1\" class=\"dataframe\">\n",
              "  <thead>\n",
              "    <tr style=\"text-align: right;\">\n",
              "      <th></th>\n",
              "      <th>IndustryTemplateCode</th>\n",
              "      <th>CompanyId</th>\n",
              "      <th>MsId</th>\n",
              "      <th>MS ReportedName</th>\n",
              "      <th>Company ReportedName</th>\n",
              "      <th>SectorName</th>\n",
              "      <th>IndustryName</th>\n",
              "      <th>CountryId</th>\n",
              "    </tr>\n",
              "  </thead>\n",
              "  <tbody>\n",
              "    <tr>\n",
              "      <th>0</th>\n",
              "      <td>N</td>\n",
              "      <td>0C0000099P</td>\n",
              "      <td>V2ID000003</td>\n",
              "      <td>ASSETS</td>\n",
              "      <td>ASSETS</td>\n",
              "      <td>Energy</td>\n",
              "      <td>Oil &amp; Gas E&amp;P</td>\n",
              "      <td>CAN</td>\n",
              "    </tr>\n",
              "    <tr>\n",
              "      <th>1</th>\n",
              "      <td>N</td>\n",
              "      <td>0C0000099P</td>\n",
              "      <td>V2ID000003</td>\n",
              "      <td>Current assets</td>\n",
              "      <td>Current assets</td>\n",
              "      <td>Energy</td>\n",
              "      <td>Oil &amp; Gas E&amp;P</td>\n",
              "      <td>CAN</td>\n",
              "    </tr>\n",
              "    <tr>\n",
              "      <th>2</th>\n",
              "      <td>N</td>\n",
              "      <td>0C0000099P</td>\n",
              "      <td>IFBS200660</td>\n",
              "      <td>Trade and other receivables</td>\n",
              "      <td>Trade and other receivables</td>\n",
              "      <td>Energy</td>\n",
              "      <td>Oil &amp; Gas E&amp;P</td>\n",
              "      <td>CAN</td>\n",
              "    </tr>\n",
              "    <tr>\n",
              "      <th>3</th>\n",
              "      <td>N</td>\n",
              "      <td>0C0000099P</td>\n",
              "      <td>IFBS100688</td>\n",
              "      <td>Prepaid expenses and deposits</td>\n",
              "      <td>Prepaid expenses and deposits</td>\n",
              "      <td>Energy</td>\n",
              "      <td>Oil &amp; Gas E&amp;P</td>\n",
              "      <td>CAN</td>\n",
              "    </tr>\n",
              "    <tr>\n",
              "      <th>4</th>\n",
              "      <td>N</td>\n",
              "      <td>0C0000099P</td>\n",
              "      <td>IFBS002631</td>\n",
              "      <td>Derivative asset</td>\n",
              "      <td>Derivative asset</td>\n",
              "      <td>Energy</td>\n",
              "      <td>Oil &amp; Gas E&amp;P</td>\n",
              "      <td>CAN</td>\n",
              "    </tr>\n",
              "  </tbody>\n",
              "</table>\n",
              "</div>"
            ],
            "text/plain": [
              "  IndustryTemplateCode   CompanyId  ...   IndustryName CountryId\n",
              "0                    N  0C0000099P  ...  Oil & Gas E&P       CAN\n",
              "1                    N  0C0000099P  ...  Oil & Gas E&P       CAN\n",
              "2                    N  0C0000099P  ...  Oil & Gas E&P       CAN\n",
              "3                    N  0C0000099P  ...  Oil & Gas E&P       CAN\n",
              "4                    N  0C0000099P  ...  Oil & Gas E&P       CAN\n",
              "\n",
              "[5 rows x 8 columns]"
            ]
          },
          "metadata": {
            "tags": []
          },
          "execution_count": 86
        }
      ]
    },
    {
      "cell_type": "code",
      "metadata": {
        "id": "v2OT8ocwHXu4",
        "colab_type": "code",
        "outputId": "ebd20166-125b-46fb-8543-a48384f124b2",
        "colab": {
          "base_uri": "https://localhost:8080/",
          "height": 421
        }
      },
      "source": [
        "total_missing_values = train_df.isnull().sum().sort_values(ascending=False)\n",
        "percentage_missing_values = (train_df.isnull().sum() / train_df.isnull().count()).sort_values(ascending =False)\n",
        "missing_data = pd.concat([total_missing_values, percentage_missing_values], keys = ['Total', 'Percentage'], axis=1)\n",
        "missing_data.head(20)"
      ],
      "execution_count": 87,
      "outputs": [
        {
          "output_type": "execute_result",
          "data": {
            "text/html": [
              "<div>\n",
              "<style scoped>\n",
              "    .dataframe tbody tr th:only-of-type {\n",
              "        vertical-align: middle;\n",
              "    }\n",
              "\n",
              "    .dataframe tbody tr th {\n",
              "        vertical-align: top;\n",
              "    }\n",
              "\n",
              "    .dataframe thead th {\n",
              "        text-align: right;\n",
              "    }\n",
              "</style>\n",
              "<table border=\"1\" class=\"dataframe\">\n",
              "  <thead>\n",
              "    <tr style=\"text-align: right;\">\n",
              "      <th></th>\n",
              "      <th>Total</th>\n",
              "      <th>Percentage</th>\n",
              "    </tr>\n",
              "  </thead>\n",
              "  <tbody>\n",
              "    <tr>\n",
              "      <th>MS ReportedName</th>\n",
              "      <td>27</td>\n",
              "      <td>0.000113</td>\n",
              "    </tr>\n",
              "    <tr>\n",
              "      <th>Company ReportedName</th>\n",
              "      <td>13</td>\n",
              "      <td>0.000055</td>\n",
              "    </tr>\n",
              "    <tr>\n",
              "      <th>MsId</th>\n",
              "      <td>12</td>\n",
              "      <td>0.000050</td>\n",
              "    </tr>\n",
              "    <tr>\n",
              "      <th>CountryId</th>\n",
              "      <td>0</td>\n",
              "      <td>0.000000</td>\n",
              "    </tr>\n",
              "    <tr>\n",
              "      <th>FileSource</th>\n",
              "      <td>0</td>\n",
              "      <td>0.000000</td>\n",
              "    </tr>\n",
              "    <tr>\n",
              "      <th>AMItemId</th>\n",
              "      <td>0</td>\n",
              "      <td>0.000000</td>\n",
              "    </tr>\n",
              "    <tr>\n",
              "      <th>IndustryName</th>\n",
              "      <td>0</td>\n",
              "      <td>0.000000</td>\n",
              "    </tr>\n",
              "    <tr>\n",
              "      <th>SectorName</th>\n",
              "      <td>0</td>\n",
              "      <td>0.000000</td>\n",
              "    </tr>\n",
              "    <tr>\n",
              "      <th>CompanyId</th>\n",
              "      <td>0</td>\n",
              "      <td>0.000000</td>\n",
              "    </tr>\n",
              "    <tr>\n",
              "      <th>FileId</th>\n",
              "      <td>0</td>\n",
              "      <td>0.000000</td>\n",
              "    </tr>\n",
              "    <tr>\n",
              "      <th>IndustryTemplateCode</th>\n",
              "      <td>0</td>\n",
              "      <td>0.000000</td>\n",
              "    </tr>\n",
              "    <tr>\n",
              "      <th>TableTypeId</th>\n",
              "      <td>0</td>\n",
              "      <td>0.000000</td>\n",
              "    </tr>\n",
              "  </tbody>\n",
              "</table>\n",
              "</div>"
            ],
            "text/plain": [
              "                      Total  Percentage\n",
              "MS ReportedName          27    0.000113\n",
              "Company ReportedName     13    0.000055\n",
              "MsId                     12    0.000050\n",
              "CountryId                 0    0.000000\n",
              "FileSource                0    0.000000\n",
              "AMItemId                  0    0.000000\n",
              "IndustryName              0    0.000000\n",
              "SectorName                0    0.000000\n",
              "CompanyId                 0    0.000000\n",
              "FileId                    0    0.000000\n",
              "IndustryTemplateCode      0    0.000000\n",
              "TableTypeId               0    0.000000"
            ]
          },
          "metadata": {
            "tags": []
          },
          "execution_count": 87
        }
      ]
    },
    {
      "cell_type": "code",
      "metadata": {
        "id": "Q3z_V00BIPKj",
        "colab_type": "code",
        "colab": {}
      },
      "source": [
        "#One Hot Encoding : Takes a categorical value and converts it to a binary vector of size n(no:of values in category)\n",
        "\n",
        "from sklearn.preprocessing import OneHotEncoder\n",
        "\n",
        "def oneHotEncoding(X):\n",
        "  oneHotencoder = OneHotEncoder(handle_unknown='ignore')\n",
        "  oneHotencoder.fit(X)\n",
        "  oneHotEncodedTrain = oneHotencoder.transform(X)\n",
        "  return oneHotEncodedTrain\n",
        "  print('One Hot Encoded train data looks like:\\n {}'.format(oneHotEncodedTrain))\n",
        "  print('One Hot Endcoded data has {} rows and {} columns'.format(oneHotEncodedTrain.shape[0], oneHotEncodedTrain.shape[1]))"
      ],
      "execution_count": 0,
      "outputs": []
    },
    {
      "cell_type": "code",
      "metadata": {
        "id": "ZmL2Z_bCKk6S",
        "colab_type": "code",
        "colab": {}
      },
      "source": [
        ""
      ],
      "execution_count": 0,
      "outputs": []
    },
    {
      "cell_type": "code",
      "metadata": {
        "id": "ebT80Z3YQJmo",
        "colab_type": "code",
        "colab": {}
      },
      "source": [
        "columnsToBeDropped = missing_data[missing_data['Total'] > 1].index"
      ],
      "execution_count": 0,
      "outputs": []
    },
    {
      "cell_type": "code",
      "metadata": {
        "id": "3t_kkYK6RKEN",
        "colab_type": "code",
        "outputId": "fe0fdc1e-4703-4338-eeef-686038b75532",
        "colab": {
          "base_uri": "https://localhost:8080/",
          "height": 34
        }
      },
      "source": [
        "print(columnsToBeDropped)"
      ],
      "execution_count": 89,
      "outputs": [
        {
          "output_type": "stream",
          "text": [
            "Index(['MS ReportedName', 'Company ReportedName', 'MsId'], dtype='object')\n"
          ],
          "name": "stdout"
        }
      ]
    },
    {
      "cell_type": "code",
      "metadata": {
        "id": "ZwgoppRoRMRp",
        "colab_type": "code",
        "colab": {}
      },
      "source": [
        "nullObservation = train_df.loc[train_df['MS ReportedName'].isnull()].index"
      ],
      "execution_count": 0,
      "outputs": []
    },
    {
      "cell_type": "code",
      "metadata": {
        "id": "pR1ACCW6Reqf",
        "colab_type": "code",
        "outputId": "1d1d2ed9-bfb1-432f-eecc-da01a6658d1c",
        "colab": {
          "base_uri": "https://localhost:8080/",
          "height": 102
        }
      },
      "source": [
        "print(nullObservation)"
      ],
      "execution_count": 91,
      "outputs": [
        {
          "output_type": "stream",
          "text": [
            "Int64Index([  5353,  27036,  45583,  55290,  77545,  87107,  87108,  91530,\n",
            "             91905, 110792, 125341, 125370, 144205, 170807, 171769, 179017,\n",
            "            181165, 184857, 194213, 201003, 202494, 204199, 204495, 213756,\n",
            "            220597, 222478, 231866],\n",
            "           dtype='int64')\n"
          ],
          "name": "stdout"
        }
      ]
    },
    {
      "cell_type": "code",
      "metadata": {
        "id": "eos3GtKiRghU",
        "colab_type": "code",
        "colab": {}
      },
      "source": [
        "for obsv in nullObservation:\n",
        "  train_df = train_df.drop(obsv)"
      ],
      "execution_count": 0,
      "outputs": []
    },
    {
      "cell_type": "code",
      "metadata": {
        "id": "Y_YxjWAvR4IB",
        "colab_type": "code",
        "outputId": "006169c6-fd2d-47be-c1c9-233566245e51",
        "colab": {
          "base_uri": "https://localhost:8080/",
          "height": 238
        }
      },
      "source": [
        "print(train_df.isnull().sum().sort_values(ascending=False))"
      ],
      "execution_count": 93,
      "outputs": [
        {
          "output_type": "stream",
          "text": [
            "Company ReportedName    9\n",
            "MsId                    9\n",
            "CountryId               0\n",
            "FileSource              0\n",
            "AMItemId                0\n",
            "IndustryName            0\n",
            "SectorName              0\n",
            "MS ReportedName         0\n",
            "CompanyId               0\n",
            "FileId                  0\n",
            "IndustryTemplateCode    0\n",
            "TableTypeId             0\n",
            "dtype: int64\n"
          ],
          "name": "stdout"
        }
      ]
    },
    {
      "cell_type": "code",
      "metadata": {
        "id": "o08qcJQ-R8qr",
        "colab_type": "code",
        "colab": {}
      },
      "source": [
        "from sklearn.preprocessing import LabelEncoder\n",
        "category_train_df.astype('category').dtypes\n",
        "cat_labeled = category_train_df.copy()\n",
        "LE = LabelEncoder()\n",
        "cat_labeled['IndustryTemplateCode'] =  LE.fit_transform(category_train_df['IndustryTemplateCode'])\n",
        "cat_labeled['CompanyId'] =  LE.fit_transform(category_train_df['CompanyId'])\n",
        "cat_labeled['MsId'] =  LE.fit_transform(category_train_df['MsId'])\n",
        "cat_labeled['MS ReportedName'] =  LE.fit_transform(category_train_df['MS ReportedName'])\n",
        "#cat_copy['Company ReportedName'] =  LE.fit_transform(category_train_df['Company ReportedName'])\n",
        "#cat_copy['SectorName'] =  LE.fit_transform(category_train_df['SectorName'])\n",
        "#cat_copy['IndustryName'] =  LE.fit_transform(category_train_df['IndustryName'])\n",
        "#cat_copy['CountryId'] =  LE.fit_transform(category_train_df['CountryId'])\n",
        "cat_labeled.head()"
      ],
      "execution_count": 0,
      "outputs": []
    },
    {
      "cell_type": "code",
      "metadata": {
        "id": "raIsj4CnSFhb",
        "colab_type": "code",
        "colab": {}
      },
      "source": [
        ""
      ],
      "execution_count": 0,
      "outputs": []
    },
    {
      "cell_type": "code",
      "metadata": {
        "id": "IrmDmE95SJS4",
        "colab_type": "code",
        "outputId": "d2fe7e1b-0015-42b6-9f46-68b249edea6a",
        "colab": {
          "base_uri": "https://localhost:8080/",
          "height": 956
        }
      },
      "source": [
        "oneHotEncodingTrain = pd.DataFrame()\n",
        "oneHotEncodingTrain = oneHotEncoding(train_df)\n",
        "print(oneHotEncodingTrain)"
      ],
      "execution_count": 75,
      "outputs": [
        {
          "output_type": "error",
          "ename": "ValueError",
          "evalue": "ignored",
          "traceback": [
            "\u001b[0;31m---------------------------------------------------------------------------\u001b[0m",
            "\u001b[0;31mValueError\u001b[0m                                Traceback (most recent call last)",
            "\u001b[0;32m<ipython-input-75-ee49006f3f05>\u001b[0m in \u001b[0;36m<module>\u001b[0;34m()\u001b[0m\n\u001b[1;32m      1\u001b[0m \u001b[0moneHotEncodingTrain\u001b[0m \u001b[0;34m=\u001b[0m \u001b[0mpd\u001b[0m\u001b[0;34m.\u001b[0m\u001b[0mDataFrame\u001b[0m\u001b[0;34m(\u001b[0m\u001b[0;34m)\u001b[0m\u001b[0;34m\u001b[0m\u001b[0;34m\u001b[0m\u001b[0m\n\u001b[0;32m----> 2\u001b[0;31m \u001b[0moneHotEncodingTrain\u001b[0m \u001b[0;34m=\u001b[0m \u001b[0moneHotEncoding\u001b[0m\u001b[0;34m(\u001b[0m\u001b[0mtrain_df\u001b[0m\u001b[0;34m)\u001b[0m\u001b[0;34m\u001b[0m\u001b[0;34m\u001b[0m\u001b[0m\n\u001b[0m\u001b[1;32m      3\u001b[0m \u001b[0mprint\u001b[0m\u001b[0;34m(\u001b[0m\u001b[0moneHotEncodingTrain\u001b[0m\u001b[0;34m)\u001b[0m\u001b[0;34m\u001b[0m\u001b[0;34m\u001b[0m\u001b[0m\n",
            "\u001b[0;32m<ipython-input-68-0b2bb651a56c>\u001b[0m in \u001b[0;36moneHotEncoding\u001b[0;34m(X)\u001b[0m\n\u001b[1;32m      4\u001b[0m \u001b[0;32mdef\u001b[0m \u001b[0moneHotEncoding\u001b[0m\u001b[0;34m(\u001b[0m\u001b[0mX\u001b[0m\u001b[0;34m)\u001b[0m\u001b[0;34m:\u001b[0m\u001b[0;34m\u001b[0m\u001b[0;34m\u001b[0m\u001b[0m\n\u001b[1;32m      5\u001b[0m   \u001b[0moneHotencoder\u001b[0m \u001b[0;34m=\u001b[0m \u001b[0mOneHotEncoder\u001b[0m\u001b[0;34m(\u001b[0m\u001b[0mhandle_unknown\u001b[0m\u001b[0;34m=\u001b[0m\u001b[0;34m'ignore'\u001b[0m\u001b[0;34m)\u001b[0m\u001b[0;34m\u001b[0m\u001b[0;34m\u001b[0m\u001b[0m\n\u001b[0;32m----> 6\u001b[0;31m   \u001b[0moneHotencoder\u001b[0m\u001b[0;34m.\u001b[0m\u001b[0mfit\u001b[0m\u001b[0;34m(\u001b[0m\u001b[0mX\u001b[0m\u001b[0;34m)\u001b[0m\u001b[0;34m\u001b[0m\u001b[0;34m\u001b[0m\u001b[0m\n\u001b[0m\u001b[1;32m      7\u001b[0m   \u001b[0moneHotEncodedTrain\u001b[0m \u001b[0;34m=\u001b[0m \u001b[0moneHotencoder\u001b[0m\u001b[0;34m.\u001b[0m\u001b[0mtransform\u001b[0m\u001b[0;34m(\u001b[0m\u001b[0mX\u001b[0m\u001b[0;34m)\u001b[0m\u001b[0;34m\u001b[0m\u001b[0;34m\u001b[0m\u001b[0m\n\u001b[1;32m      8\u001b[0m   \u001b[0;32mreturn\u001b[0m \u001b[0moneHotEncodedTrain\u001b[0m\u001b[0;34m\u001b[0m\u001b[0;34m\u001b[0m\u001b[0m\n",
            "\u001b[0;32m/usr/local/lib/python3.6/dist-packages/sklearn/preprocessing/_encoders.py\u001b[0m in \u001b[0;36mfit\u001b[0;34m(self, X, y)\u001b[0m\n\u001b[1;32m    345\u001b[0m         \"\"\"\n\u001b[1;32m    346\u001b[0m         \u001b[0mself\u001b[0m\u001b[0;34m.\u001b[0m\u001b[0m_validate_keywords\u001b[0m\u001b[0;34m(\u001b[0m\u001b[0;34m)\u001b[0m\u001b[0;34m\u001b[0m\u001b[0;34m\u001b[0m\u001b[0m\n\u001b[0;32m--> 347\u001b[0;31m         \u001b[0mself\u001b[0m\u001b[0;34m.\u001b[0m\u001b[0m_fit\u001b[0m\u001b[0;34m(\u001b[0m\u001b[0mX\u001b[0m\u001b[0;34m,\u001b[0m \u001b[0mhandle_unknown\u001b[0m\u001b[0;34m=\u001b[0m\u001b[0mself\u001b[0m\u001b[0;34m.\u001b[0m\u001b[0mhandle_unknown\u001b[0m\u001b[0;34m)\u001b[0m\u001b[0;34m\u001b[0m\u001b[0;34m\u001b[0m\u001b[0m\n\u001b[0m\u001b[1;32m    348\u001b[0m         \u001b[0mself\u001b[0m\u001b[0;34m.\u001b[0m\u001b[0mdrop_idx_\u001b[0m \u001b[0;34m=\u001b[0m \u001b[0mself\u001b[0m\u001b[0;34m.\u001b[0m\u001b[0m_compute_drop_idx\u001b[0m\u001b[0;34m(\u001b[0m\u001b[0;34m)\u001b[0m\u001b[0;34m\u001b[0m\u001b[0;34m\u001b[0m\u001b[0m\n\u001b[1;32m    349\u001b[0m         \u001b[0;32mreturn\u001b[0m \u001b[0mself\u001b[0m\u001b[0;34m\u001b[0m\u001b[0;34m\u001b[0m\u001b[0m\n",
            "\u001b[0;32m/usr/local/lib/python3.6/dist-packages/sklearn/preprocessing/_encoders.py\u001b[0m in \u001b[0;36m_fit\u001b[0;34m(self, X, handle_unknown)\u001b[0m\n\u001b[1;32m     72\u001b[0m \u001b[0;34m\u001b[0m\u001b[0m\n\u001b[1;32m     73\u001b[0m     \u001b[0;32mdef\u001b[0m \u001b[0m_fit\u001b[0m\u001b[0;34m(\u001b[0m\u001b[0mself\u001b[0m\u001b[0;34m,\u001b[0m \u001b[0mX\u001b[0m\u001b[0;34m,\u001b[0m \u001b[0mhandle_unknown\u001b[0m\u001b[0;34m=\u001b[0m\u001b[0;34m'error'\u001b[0m\u001b[0;34m)\u001b[0m\u001b[0;34m:\u001b[0m\u001b[0;34m\u001b[0m\u001b[0;34m\u001b[0m\u001b[0m\n\u001b[0;32m---> 74\u001b[0;31m         \u001b[0mX_list\u001b[0m\u001b[0;34m,\u001b[0m \u001b[0mn_samples\u001b[0m\u001b[0;34m,\u001b[0m \u001b[0mn_features\u001b[0m \u001b[0;34m=\u001b[0m \u001b[0mself\u001b[0m\u001b[0;34m.\u001b[0m\u001b[0m_check_X\u001b[0m\u001b[0;34m(\u001b[0m\u001b[0mX\u001b[0m\u001b[0;34m)\u001b[0m\u001b[0;34m\u001b[0m\u001b[0;34m\u001b[0m\u001b[0m\n\u001b[0m\u001b[1;32m     75\u001b[0m \u001b[0;34m\u001b[0m\u001b[0m\n\u001b[1;32m     76\u001b[0m         \u001b[0;32mif\u001b[0m \u001b[0mself\u001b[0m\u001b[0;34m.\u001b[0m\u001b[0mcategories\u001b[0m \u001b[0;34m!=\u001b[0m \u001b[0;34m'auto'\u001b[0m\u001b[0;34m:\u001b[0m\u001b[0;34m\u001b[0m\u001b[0;34m\u001b[0m\u001b[0m\n",
            "\u001b[0;32m/usr/local/lib/python3.6/dist-packages/sklearn/preprocessing/_encoders.py\u001b[0m in \u001b[0;36m_check_X\u001b[0;34m(self, X)\u001b[0m\n\u001b[1;32m     59\u001b[0m             \u001b[0mXi\u001b[0m \u001b[0;34m=\u001b[0m \u001b[0mself\u001b[0m\u001b[0;34m.\u001b[0m\u001b[0m_get_feature\u001b[0m\u001b[0;34m(\u001b[0m\u001b[0mX\u001b[0m\u001b[0;34m,\u001b[0m \u001b[0mfeature_idx\u001b[0m\u001b[0;34m=\u001b[0m\u001b[0mi\u001b[0m\u001b[0;34m)\u001b[0m\u001b[0;34m\u001b[0m\u001b[0;34m\u001b[0m\u001b[0m\n\u001b[1;32m     60\u001b[0m             Xi = check_array(Xi, ensure_2d=False, dtype=None,\n\u001b[0;32m---> 61\u001b[0;31m                              force_all_finite=needs_validation)\n\u001b[0m\u001b[1;32m     62\u001b[0m             \u001b[0mX_columns\u001b[0m\u001b[0;34m.\u001b[0m\u001b[0mappend\u001b[0m\u001b[0;34m(\u001b[0m\u001b[0mXi\u001b[0m\u001b[0;34m)\u001b[0m\u001b[0;34m\u001b[0m\u001b[0;34m\u001b[0m\u001b[0m\n\u001b[1;32m     63\u001b[0m \u001b[0;34m\u001b[0m\u001b[0m\n",
            "\u001b[0;32m/usr/local/lib/python3.6/dist-packages/sklearn/utils/validation.py\u001b[0m in \u001b[0;36mcheck_array\u001b[0;34m(array, accept_sparse, accept_large_sparse, dtype, order, copy, force_all_finite, ensure_2d, allow_nd, ensure_min_samples, ensure_min_features, warn_on_dtype, estimator)\u001b[0m\n\u001b[1;32m    576\u001b[0m         \u001b[0;32mif\u001b[0m \u001b[0mforce_all_finite\u001b[0m\u001b[0;34m:\u001b[0m\u001b[0;34m\u001b[0m\u001b[0;34m\u001b[0m\u001b[0m\n\u001b[1;32m    577\u001b[0m             _assert_all_finite(array,\n\u001b[0;32m--> 578\u001b[0;31m                                allow_nan=force_all_finite == 'allow-nan')\n\u001b[0m\u001b[1;32m    579\u001b[0m \u001b[0;34m\u001b[0m\u001b[0m\n\u001b[1;32m    580\u001b[0m     \u001b[0;32mif\u001b[0m \u001b[0mensure_min_samples\u001b[0m \u001b[0;34m>\u001b[0m \u001b[0;36m0\u001b[0m\u001b[0;34m:\u001b[0m\u001b[0;34m\u001b[0m\u001b[0;34m\u001b[0m\u001b[0m\n",
            "\u001b[0;32m/usr/local/lib/python3.6/dist-packages/sklearn/utils/validation.py\u001b[0m in \u001b[0;36m_assert_all_finite\u001b[0;34m(X, allow_nan, msg_dtype)\u001b[0m\n\u001b[1;32m     63\u001b[0m     \u001b[0;32melif\u001b[0m \u001b[0mX\u001b[0m\u001b[0;34m.\u001b[0m\u001b[0mdtype\u001b[0m \u001b[0;34m==\u001b[0m \u001b[0mnp\u001b[0m\u001b[0;34m.\u001b[0m\u001b[0mdtype\u001b[0m\u001b[0;34m(\u001b[0m\u001b[0;34m'object'\u001b[0m\u001b[0;34m)\u001b[0m \u001b[0;32mand\u001b[0m \u001b[0;32mnot\u001b[0m \u001b[0mallow_nan\u001b[0m\u001b[0;34m:\u001b[0m\u001b[0;34m\u001b[0m\u001b[0;34m\u001b[0m\u001b[0m\n\u001b[1;32m     64\u001b[0m         \u001b[0;32mif\u001b[0m \u001b[0m_object_dtype_isnan\u001b[0m\u001b[0;34m(\u001b[0m\u001b[0mX\u001b[0m\u001b[0;34m)\u001b[0m\u001b[0;34m.\u001b[0m\u001b[0many\u001b[0m\u001b[0;34m(\u001b[0m\u001b[0;34m)\u001b[0m\u001b[0;34m:\u001b[0m\u001b[0;34m\u001b[0m\u001b[0;34m\u001b[0m\u001b[0m\n\u001b[0;32m---> 65\u001b[0;31m             \u001b[0;32mraise\u001b[0m \u001b[0mValueError\u001b[0m\u001b[0;34m(\u001b[0m\u001b[0;34m\"Input contains NaN\"\u001b[0m\u001b[0;34m)\u001b[0m\u001b[0;34m\u001b[0m\u001b[0;34m\u001b[0m\u001b[0m\n\u001b[0m\u001b[1;32m     66\u001b[0m \u001b[0;34m\u001b[0m\u001b[0m\n\u001b[1;32m     67\u001b[0m \u001b[0;34m\u001b[0m\u001b[0m\n",
            "\u001b[0;31mValueError\u001b[0m: Input contains NaN"
          ]
        }
      ]
    },
    {
      "cell_type": "code",
      "metadata": {
        "id": "Mn6jvgFPSVJx",
        "colab_type": "code",
        "colab": {
          "base_uri": "https://localhost:8080/",
          "height": 221
        },
        "outputId": "9475a3e3-3288-465e-ff07-e8c9adaaf361"
      },
      "source": [
        "category_train_df = train_df.select_dtypes(include=['object']).copy()\n",
        "print(\"cateegorical data is\")\n",
        "category_train_df.head()"
      ],
      "execution_count": 94,
      "outputs": [
        {
          "output_type": "stream",
          "text": [
            "cateegorical data is\n"
          ],
          "name": "stdout"
        },
        {
          "output_type": "execute_result",
          "data": {
            "text/html": [
              "<div>\n",
              "<style scoped>\n",
              "    .dataframe tbody tr th:only-of-type {\n",
              "        vertical-align: middle;\n",
              "    }\n",
              "\n",
              "    .dataframe tbody tr th {\n",
              "        vertical-align: top;\n",
              "    }\n",
              "\n",
              "    .dataframe thead th {\n",
              "        text-align: right;\n",
              "    }\n",
              "</style>\n",
              "<table border=\"1\" class=\"dataframe\">\n",
              "  <thead>\n",
              "    <tr style=\"text-align: right;\">\n",
              "      <th></th>\n",
              "      <th>IndustryTemplateCode</th>\n",
              "      <th>CompanyId</th>\n",
              "      <th>MsId</th>\n",
              "      <th>MS ReportedName</th>\n",
              "      <th>Company ReportedName</th>\n",
              "      <th>SectorName</th>\n",
              "      <th>IndustryName</th>\n",
              "      <th>CountryId</th>\n",
              "    </tr>\n",
              "  </thead>\n",
              "  <tbody>\n",
              "    <tr>\n",
              "      <th>0</th>\n",
              "      <td>N</td>\n",
              "      <td>0C0000099P</td>\n",
              "      <td>V2ID000003</td>\n",
              "      <td>ASSETS</td>\n",
              "      <td>ASSETS</td>\n",
              "      <td>Energy</td>\n",
              "      <td>Oil &amp; Gas E&amp;P</td>\n",
              "      <td>CAN</td>\n",
              "    </tr>\n",
              "    <tr>\n",
              "      <th>1</th>\n",
              "      <td>N</td>\n",
              "      <td>0C0000099P</td>\n",
              "      <td>V2ID000003</td>\n",
              "      <td>Current assets</td>\n",
              "      <td>Current assets</td>\n",
              "      <td>Energy</td>\n",
              "      <td>Oil &amp; Gas E&amp;P</td>\n",
              "      <td>CAN</td>\n",
              "    </tr>\n",
              "    <tr>\n",
              "      <th>2</th>\n",
              "      <td>N</td>\n",
              "      <td>0C0000099P</td>\n",
              "      <td>IFBS200660</td>\n",
              "      <td>Trade and other receivables</td>\n",
              "      <td>Trade and other receivables</td>\n",
              "      <td>Energy</td>\n",
              "      <td>Oil &amp; Gas E&amp;P</td>\n",
              "      <td>CAN</td>\n",
              "    </tr>\n",
              "    <tr>\n",
              "      <th>3</th>\n",
              "      <td>N</td>\n",
              "      <td>0C0000099P</td>\n",
              "      <td>IFBS100688</td>\n",
              "      <td>Prepaid expenses and deposits</td>\n",
              "      <td>Prepaid expenses and deposits</td>\n",
              "      <td>Energy</td>\n",
              "      <td>Oil &amp; Gas E&amp;P</td>\n",
              "      <td>CAN</td>\n",
              "    </tr>\n",
              "    <tr>\n",
              "      <th>4</th>\n",
              "      <td>N</td>\n",
              "      <td>0C0000099P</td>\n",
              "      <td>IFBS002631</td>\n",
              "      <td>Derivative asset</td>\n",
              "      <td>Derivative asset</td>\n",
              "      <td>Energy</td>\n",
              "      <td>Oil &amp; Gas E&amp;P</td>\n",
              "      <td>CAN</td>\n",
              "    </tr>\n",
              "  </tbody>\n",
              "</table>\n",
              "</div>"
            ],
            "text/plain": [
              "  IndustryTemplateCode   CompanyId  ...   IndustryName CountryId\n",
              "0                    N  0C0000099P  ...  Oil & Gas E&P       CAN\n",
              "1                    N  0C0000099P  ...  Oil & Gas E&P       CAN\n",
              "2                    N  0C0000099P  ...  Oil & Gas E&P       CAN\n",
              "3                    N  0C0000099P  ...  Oil & Gas E&P       CAN\n",
              "4                    N  0C0000099P  ...  Oil & Gas E&P       CAN\n",
              "\n",
              "[5 rows x 8 columns]"
            ]
          },
          "metadata": {
            "tags": []
          },
          "execution_count": 94
        }
      ]
    }
  ]
}