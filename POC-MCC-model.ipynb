{
  "nbformat": 4,
  "nbformat_minor": 0,
  "metadata": {
    "colab": {
      "name": "Untitled6.ipynb",
      "provenance": [],
      "collapsed_sections": [],
      "toc_visible": true,
      "authorship_tag": "ABX9TyMqF9hu2NIEtRpUUFZHNuCW",
      "include_colab_link": true
    },
    "kernelspec": {
      "name": "python3",
      "display_name": "Python 3"
    }
  },
  "cells": [
    {
      "cell_type": "markdown",
      "metadata": {
        "id": "view-in-github",
        "colab_type": "text"
      },
      "source": [
        "<a href=\"https://colab.research.google.com/github/Upasna22/AdapterViews/blob/master/POC-MCC-model.ipynb\" target=\"_parent\"><img src=\"https://colab.research.google.com/assets/colab-badge.svg\" alt=\"Open In Colab\"/></a>"
      ]
    },
    {
      "cell_type": "code",
      "metadata": {
        "id": "uS-Yx-NHC287",
        "colab_type": "code",
        "colab": {}
      },
      "source": [
        "import pandas as pd\n",
        "import numpy as np"
      ],
      "execution_count": 0,
      "outputs": []
    },
    {
      "cell_type": "code",
      "metadata": {
        "id": "7P_TIO76DUrQ",
        "colab_type": "code",
        "colab": {}
      },
      "source": [
        "train_df = pd.read_csv('POC-MCCdata.csv')"
      ],
      "execution_count": 0,
      "outputs": []
    },
    {
      "cell_type": "code",
      "metadata": {
        "id": "MJPFSHdEDe4H",
        "colab_type": "code",
        "outputId": "540765bf-e91f-45d9-f6c1-2247722ac4ff",
        "colab": {
          "base_uri": "https://localhost:8080/",
          "height": 343
        }
      },
      "source": [
        "train_df.head()"
      ],
      "execution_count": 59,
      "outputs": [
        {
          "output_type": "execute_result",
          "data": {
            "text/html": [
              "<div>\n",
              "<style scoped>\n",
              "    .dataframe tbody tr th:only-of-type {\n",
              "        vertical-align: middle;\n",
              "    }\n",
              "\n",
              "    .dataframe tbody tr th {\n",
              "        vertical-align: top;\n",
              "    }\n",
              "\n",
              "    .dataframe thead th {\n",
              "        text-align: right;\n",
              "    }\n",
              "</style>\n",
              "<table border=\"1\" class=\"dataframe\">\n",
              "  <thead>\n",
              "    <tr style=\"text-align: right;\">\n",
              "      <th></th>\n",
              "      <th>TableTypeId</th>\n",
              "      <th>IndustryTemplateCode</th>\n",
              "      <th>EffectiveDate</th>\n",
              "      <th>CreateDate</th>\n",
              "      <th>UpdateDate</th>\n",
              "      <th>FileId</th>\n",
              "      <th>CompanyId</th>\n",
              "      <th>MsId</th>\n",
              "      <th>MS ReportedName</th>\n",
              "      <th>Company ReportedName</th>\n",
              "      <th>SectorName</th>\n",
              "      <th>IndustryName</th>\n",
              "      <th>AMItemId</th>\n",
              "      <th>FileSource</th>\n",
              "      <th>CountryId</th>\n",
              "    </tr>\n",
              "  </thead>\n",
              "  <tbody>\n",
              "    <tr>\n",
              "      <th>0</th>\n",
              "      <td>1</td>\n",
              "      <td>N</td>\n",
              "      <td>2016-08-05 00:00:00.000</td>\n",
              "      <td>2017-12-20 20:45:56.530</td>\n",
              "      <td>2017-12-20 20:52:24.573</td>\n",
              "      <td>31953224</td>\n",
              "      <td>0C0000099P</td>\n",
              "      <td>V2ID000003</td>\n",
              "      <td>ASSETS</td>\n",
              "      <td>ASSETS</td>\n",
              "      <td>Energy</td>\n",
              "      <td>Oil &amp; Gas E&amp;P</td>\n",
              "      <td>6643918</td>\n",
              "      <td>2</td>\n",
              "      <td>CAN</td>\n",
              "    </tr>\n",
              "    <tr>\n",
              "      <th>1</th>\n",
              "      <td>1</td>\n",
              "      <td>N</td>\n",
              "      <td>2016-08-05 00:00:00.000</td>\n",
              "      <td>2017-12-20 20:45:56.530</td>\n",
              "      <td>2017-12-20 20:52:28.317</td>\n",
              "      <td>31953224</td>\n",
              "      <td>0C0000099P</td>\n",
              "      <td>V2ID000003</td>\n",
              "      <td>Current assets</td>\n",
              "      <td>Current assets</td>\n",
              "      <td>Energy</td>\n",
              "      <td>Oil &amp; Gas E&amp;P</td>\n",
              "      <td>6643919</td>\n",
              "      <td>2</td>\n",
              "      <td>CAN</td>\n",
              "    </tr>\n",
              "    <tr>\n",
              "      <th>2</th>\n",
              "      <td>1</td>\n",
              "      <td>N</td>\n",
              "      <td>2016-08-05 00:00:00.000</td>\n",
              "      <td>2017-12-20 20:45:56.530</td>\n",
              "      <td>2017-12-20 21:09:52.720</td>\n",
              "      <td>31953224</td>\n",
              "      <td>0C0000099P</td>\n",
              "      <td>IFBS200660</td>\n",
              "      <td>Trade and other receivables</td>\n",
              "      <td>Trade and other receivables</td>\n",
              "      <td>Energy</td>\n",
              "      <td>Oil &amp; Gas E&amp;P</td>\n",
              "      <td>6643920</td>\n",
              "      <td>2</td>\n",
              "      <td>CAN</td>\n",
              "    </tr>\n",
              "    <tr>\n",
              "      <th>3</th>\n",
              "      <td>1</td>\n",
              "      <td>N</td>\n",
              "      <td>2016-08-05 00:00:00.000</td>\n",
              "      <td>2017-12-20 20:45:56.530</td>\n",
              "      <td>2017-12-20 21:10:03.430</td>\n",
              "      <td>31953224</td>\n",
              "      <td>0C0000099P</td>\n",
              "      <td>IFBS100688</td>\n",
              "      <td>Prepaid expenses and deposits</td>\n",
              "      <td>Prepaid expenses and deposits</td>\n",
              "      <td>Energy</td>\n",
              "      <td>Oil &amp; Gas E&amp;P</td>\n",
              "      <td>6643921</td>\n",
              "      <td>2</td>\n",
              "      <td>CAN</td>\n",
              "    </tr>\n",
              "    <tr>\n",
              "      <th>4</th>\n",
              "      <td>1</td>\n",
              "      <td>N</td>\n",
              "      <td>2016-08-05 00:00:00.000</td>\n",
              "      <td>2017-12-20 20:45:56.530</td>\n",
              "      <td>2017-12-20 20:45:56.530</td>\n",
              "      <td>31953224</td>\n",
              "      <td>0C0000099P</td>\n",
              "      <td>IFBS002631</td>\n",
              "      <td>Derivative asset</td>\n",
              "      <td>Derivative asset</td>\n",
              "      <td>Energy</td>\n",
              "      <td>Oil &amp; Gas E&amp;P</td>\n",
              "      <td>6643922</td>\n",
              "      <td>2</td>\n",
              "      <td>CAN</td>\n",
              "    </tr>\n",
              "  </tbody>\n",
              "</table>\n",
              "</div>"
            ],
            "text/plain": [
              "   TableTypeId IndustryTemplateCode  ... FileSource CountryId\n",
              "0            1                    N  ...          2       CAN\n",
              "1            1                    N  ...          2       CAN\n",
              "2            1                    N  ...          2       CAN\n",
              "3            1                    N  ...          2       CAN\n",
              "4            1                    N  ...          2       CAN\n",
              "\n",
              "[5 rows x 15 columns]"
            ]
          },
          "metadata": {
            "tags": []
          },
          "execution_count": 59
        }
      ]
    },
    {
      "cell_type": "code",
      "metadata": {
        "id": "yubalLj2Dg46",
        "colab_type": "code",
        "outputId": "539f5d5c-0bdc-45cd-e0d9-81d9dee83ff1",
        "colab": {
          "base_uri": "https://localhost:8080/",
          "height": 102
        }
      },
      "source": [
        "train_df['MsId'].describe()"
      ],
      "execution_count": 60,
      "outputs": [
        {
          "output_type": "execute_result",
          "data": {
            "text/plain": [
              "count         237911\n",
              "unique           240\n",
              "top       V2ID000003\n",
              "freq           47051\n",
              "Name: MsId, dtype: object"
            ]
          },
          "metadata": {
            "tags": []
          },
          "execution_count": 60
        }
      ]
    },
    {
      "cell_type": "markdown",
      "metadata": {
        "id": "NsuDggvLD_0U",
        "colab_type": "text"
      },
      "source": [
        "Label encoding\n"
      ]
    },
    {
      "cell_type": "code",
      "metadata": {
        "colab_type": "code",
        "outputId": "b571bcb7-fd51-4a71-f013-3276f5ba25f9",
        "id": "pJJGlQdXFO8y",
        "colab": {
          "base_uri": "https://localhost:8080/",
          "height": 343
        }
      },
      "source": [
        "#Split data into X and y\n",
        "X = train_df.copy()\n",
        "#y = train_df['MsId']\n",
        "#X = train_df.drop(['MsId'], axis=1)\n",
        "X.head()\n"
      ],
      "execution_count": 61,
      "outputs": [
        {
          "output_type": "execute_result",
          "data": {
            "text/html": [
              "<div>\n",
              "<style scoped>\n",
              "    .dataframe tbody tr th:only-of-type {\n",
              "        vertical-align: middle;\n",
              "    }\n",
              "\n",
              "    .dataframe tbody tr th {\n",
              "        vertical-align: top;\n",
              "    }\n",
              "\n",
              "    .dataframe thead th {\n",
              "        text-align: right;\n",
              "    }\n",
              "</style>\n",
              "<table border=\"1\" class=\"dataframe\">\n",
              "  <thead>\n",
              "    <tr style=\"text-align: right;\">\n",
              "      <th></th>\n",
              "      <th>TableTypeId</th>\n",
              "      <th>IndustryTemplateCode</th>\n",
              "      <th>EffectiveDate</th>\n",
              "      <th>CreateDate</th>\n",
              "      <th>UpdateDate</th>\n",
              "      <th>FileId</th>\n",
              "      <th>CompanyId</th>\n",
              "      <th>MsId</th>\n",
              "      <th>MS ReportedName</th>\n",
              "      <th>Company ReportedName</th>\n",
              "      <th>SectorName</th>\n",
              "      <th>IndustryName</th>\n",
              "      <th>AMItemId</th>\n",
              "      <th>FileSource</th>\n",
              "      <th>CountryId</th>\n",
              "    </tr>\n",
              "  </thead>\n",
              "  <tbody>\n",
              "    <tr>\n",
              "      <th>0</th>\n",
              "      <td>1</td>\n",
              "      <td>N</td>\n",
              "      <td>2016-08-05 00:00:00.000</td>\n",
              "      <td>2017-12-20 20:45:56.530</td>\n",
              "      <td>2017-12-20 20:52:24.573</td>\n",
              "      <td>31953224</td>\n",
              "      <td>0C0000099P</td>\n",
              "      <td>V2ID000003</td>\n",
              "      <td>ASSETS</td>\n",
              "      <td>ASSETS</td>\n",
              "      <td>Energy</td>\n",
              "      <td>Oil &amp; Gas E&amp;P</td>\n",
              "      <td>6643918</td>\n",
              "      <td>2</td>\n",
              "      <td>CAN</td>\n",
              "    </tr>\n",
              "    <tr>\n",
              "      <th>1</th>\n",
              "      <td>1</td>\n",
              "      <td>N</td>\n",
              "      <td>2016-08-05 00:00:00.000</td>\n",
              "      <td>2017-12-20 20:45:56.530</td>\n",
              "      <td>2017-12-20 20:52:28.317</td>\n",
              "      <td>31953224</td>\n",
              "      <td>0C0000099P</td>\n",
              "      <td>V2ID000003</td>\n",
              "      <td>Current assets</td>\n",
              "      <td>Current assets</td>\n",
              "      <td>Energy</td>\n",
              "      <td>Oil &amp; Gas E&amp;P</td>\n",
              "      <td>6643919</td>\n",
              "      <td>2</td>\n",
              "      <td>CAN</td>\n",
              "    </tr>\n",
              "    <tr>\n",
              "      <th>2</th>\n",
              "      <td>1</td>\n",
              "      <td>N</td>\n",
              "      <td>2016-08-05 00:00:00.000</td>\n",
              "      <td>2017-12-20 20:45:56.530</td>\n",
              "      <td>2017-12-20 21:09:52.720</td>\n",
              "      <td>31953224</td>\n",
              "      <td>0C0000099P</td>\n",
              "      <td>IFBS200660</td>\n",
              "      <td>Trade and other receivables</td>\n",
              "      <td>Trade and other receivables</td>\n",
              "      <td>Energy</td>\n",
              "      <td>Oil &amp; Gas E&amp;P</td>\n",
              "      <td>6643920</td>\n",
              "      <td>2</td>\n",
              "      <td>CAN</td>\n",
              "    </tr>\n",
              "    <tr>\n",
              "      <th>3</th>\n",
              "      <td>1</td>\n",
              "      <td>N</td>\n",
              "      <td>2016-08-05 00:00:00.000</td>\n",
              "      <td>2017-12-20 20:45:56.530</td>\n",
              "      <td>2017-12-20 21:10:03.430</td>\n",
              "      <td>31953224</td>\n",
              "      <td>0C0000099P</td>\n",
              "      <td>IFBS100688</td>\n",
              "      <td>Prepaid expenses and deposits</td>\n",
              "      <td>Prepaid expenses and deposits</td>\n",
              "      <td>Energy</td>\n",
              "      <td>Oil &amp; Gas E&amp;P</td>\n",
              "      <td>6643921</td>\n",
              "      <td>2</td>\n",
              "      <td>CAN</td>\n",
              "    </tr>\n",
              "    <tr>\n",
              "      <th>4</th>\n",
              "      <td>1</td>\n",
              "      <td>N</td>\n",
              "      <td>2016-08-05 00:00:00.000</td>\n",
              "      <td>2017-12-20 20:45:56.530</td>\n",
              "      <td>2017-12-20 20:45:56.530</td>\n",
              "      <td>31953224</td>\n",
              "      <td>0C0000099P</td>\n",
              "      <td>IFBS002631</td>\n",
              "      <td>Derivative asset</td>\n",
              "      <td>Derivative asset</td>\n",
              "      <td>Energy</td>\n",
              "      <td>Oil &amp; Gas E&amp;P</td>\n",
              "      <td>6643922</td>\n",
              "      <td>2</td>\n",
              "      <td>CAN</td>\n",
              "    </tr>\n",
              "  </tbody>\n",
              "</table>\n",
              "</div>"
            ],
            "text/plain": [
              "   TableTypeId IndustryTemplateCode  ... FileSource CountryId\n",
              "0            1                    N  ...          2       CAN\n",
              "1            1                    N  ...          2       CAN\n",
              "2            1                    N  ...          2       CAN\n",
              "3            1                    N  ...          2       CAN\n",
              "4            1                    N  ...          2       CAN\n",
              "\n",
              "[5 rows x 15 columns]"
            ]
          },
          "metadata": {
            "tags": []
          },
          "execution_count": 61
        }
      ]
    },
    {
      "cell_type": "code",
      "metadata": {
        "id": "SetOE-ndEPd8",
        "colab_type": "code",
        "colab": {}
      },
      "source": [
        "from sklearn.preprocessing import LabelEncoder\n",
        "def LabelEncoding(X):\n",
        "  labelEncodedTrain = pd.DataFrame()\n",
        "  LE = LabelEncoder()\n",
        "  for col in X.columns:\n",
        "    if(X[col].dtype == 'object'):\n",
        "      labelEncodedTrain[col] = LE.fit_transform(X[col])\n",
        "    else:\n",
        "      labelEncodedTrain[col] = X[col]\n",
        "  print('Label Encoded Train looks like \\n{}'.format(labelEncodedTrain.head(15)))\n",
        "  print(labelEncodedTrain.shape)"
      ],
      "execution_count": 0,
      "outputs": []
    },
    {
      "cell_type": "code",
      "metadata": {
        "id": "araa9zX5HRd7",
        "colab_type": "code",
        "outputId": "37927dda-ce29-4136-b859-a73c44e62be0",
        "colab": {
          "base_uri": "https://localhost:8080/",
          "height": 292
        }
      },
      "source": [
        "#drop unwanted columns like Dates\n",
        "X = X.drop(['EffectiveDate', 'CreateDate', 'UpdateDate'], axis=1)\n",
        "X.head()"
      ],
      "execution_count": 62,
      "outputs": [
        {
          "output_type": "execute_result",
          "data": {
            "text/html": [
              "<div>\n",
              "<style scoped>\n",
              "    .dataframe tbody tr th:only-of-type {\n",
              "        vertical-align: middle;\n",
              "    }\n",
              "\n",
              "    .dataframe tbody tr th {\n",
              "        vertical-align: top;\n",
              "    }\n",
              "\n",
              "    .dataframe thead th {\n",
              "        text-align: right;\n",
              "    }\n",
              "</style>\n",
              "<table border=\"1\" class=\"dataframe\">\n",
              "  <thead>\n",
              "    <tr style=\"text-align: right;\">\n",
              "      <th></th>\n",
              "      <th>TableTypeId</th>\n",
              "      <th>IndustryTemplateCode</th>\n",
              "      <th>FileId</th>\n",
              "      <th>CompanyId</th>\n",
              "      <th>MsId</th>\n",
              "      <th>MS ReportedName</th>\n",
              "      <th>Company ReportedName</th>\n",
              "      <th>SectorName</th>\n",
              "      <th>IndustryName</th>\n",
              "      <th>AMItemId</th>\n",
              "      <th>FileSource</th>\n",
              "      <th>CountryId</th>\n",
              "    </tr>\n",
              "  </thead>\n",
              "  <tbody>\n",
              "    <tr>\n",
              "      <th>0</th>\n",
              "      <td>1</td>\n",
              "      <td>N</td>\n",
              "      <td>31953224</td>\n",
              "      <td>0C0000099P</td>\n",
              "      <td>V2ID000003</td>\n",
              "      <td>ASSETS</td>\n",
              "      <td>ASSETS</td>\n",
              "      <td>Energy</td>\n",
              "      <td>Oil &amp; Gas E&amp;P</td>\n",
              "      <td>6643918</td>\n",
              "      <td>2</td>\n",
              "      <td>CAN</td>\n",
              "    </tr>\n",
              "    <tr>\n",
              "      <th>1</th>\n",
              "      <td>1</td>\n",
              "      <td>N</td>\n",
              "      <td>31953224</td>\n",
              "      <td>0C0000099P</td>\n",
              "      <td>V2ID000003</td>\n",
              "      <td>Current assets</td>\n",
              "      <td>Current assets</td>\n",
              "      <td>Energy</td>\n",
              "      <td>Oil &amp; Gas E&amp;P</td>\n",
              "      <td>6643919</td>\n",
              "      <td>2</td>\n",
              "      <td>CAN</td>\n",
              "    </tr>\n",
              "    <tr>\n",
              "      <th>2</th>\n",
              "      <td>1</td>\n",
              "      <td>N</td>\n",
              "      <td>31953224</td>\n",
              "      <td>0C0000099P</td>\n",
              "      <td>IFBS200660</td>\n",
              "      <td>Trade and other receivables</td>\n",
              "      <td>Trade and other receivables</td>\n",
              "      <td>Energy</td>\n",
              "      <td>Oil &amp; Gas E&amp;P</td>\n",
              "      <td>6643920</td>\n",
              "      <td>2</td>\n",
              "      <td>CAN</td>\n",
              "    </tr>\n",
              "    <tr>\n",
              "      <th>3</th>\n",
              "      <td>1</td>\n",
              "      <td>N</td>\n",
              "      <td>31953224</td>\n",
              "      <td>0C0000099P</td>\n",
              "      <td>IFBS100688</td>\n",
              "      <td>Prepaid expenses and deposits</td>\n",
              "      <td>Prepaid expenses and deposits</td>\n",
              "      <td>Energy</td>\n",
              "      <td>Oil &amp; Gas E&amp;P</td>\n",
              "      <td>6643921</td>\n",
              "      <td>2</td>\n",
              "      <td>CAN</td>\n",
              "    </tr>\n",
              "    <tr>\n",
              "      <th>4</th>\n",
              "      <td>1</td>\n",
              "      <td>N</td>\n",
              "      <td>31953224</td>\n",
              "      <td>0C0000099P</td>\n",
              "      <td>IFBS002631</td>\n",
              "      <td>Derivative asset</td>\n",
              "      <td>Derivative asset</td>\n",
              "      <td>Energy</td>\n",
              "      <td>Oil &amp; Gas E&amp;P</td>\n",
              "      <td>6643922</td>\n",
              "      <td>2</td>\n",
              "      <td>CAN</td>\n",
              "    </tr>\n",
              "  </tbody>\n",
              "</table>\n",
              "</div>"
            ],
            "text/plain": [
              "   TableTypeId IndustryTemplateCode    FileId  ... AMItemId FileSource CountryId\n",
              "0            1                    N  31953224  ...  6643918          2       CAN\n",
              "1            1                    N  31953224  ...  6643919          2       CAN\n",
              "2            1                    N  31953224  ...  6643920          2       CAN\n",
              "3            1                    N  31953224  ...  6643921          2       CAN\n",
              "4            1                    N  31953224  ...  6643922          2       CAN\n",
              "\n",
              "[5 rows x 12 columns]"
            ]
          },
          "metadata": {
            "tags": []
          },
          "execution_count": 62
        }
      ]
    },
    {
      "cell_type": "code",
      "metadata": {
        "id": "h30x4IQZs4gX",
        "colab_type": "code",
        "outputId": "d0ffc25a-0c25-4c64-a84d-158f8c9277eb",
        "colab": {
          "base_uri": "https://localhost:8080/",
          "height": 119
        }
      },
      "source": [
        "#target variable\n",
        "y.head()\n"
      ],
      "execution_count": 40,
      "outputs": [
        {
          "output_type": "execute_result",
          "data": {
            "text/plain": [
              "0    V2ID000003\n",
              "1    V2ID000003\n",
              "2    IFBS200660\n",
              "3    IFBS100688\n",
              "4    IFBS002631\n",
              "Name: MsId, dtype: object"
            ]
          },
          "metadata": {
            "tags": []
          },
          "execution_count": 40
        }
      ]
    },
    {
      "cell_type": "code",
      "metadata": {
        "colab_type": "code",
        "outputId": "1a7cfdcb-bf0e-4a88-ef3a-ccdec0de5ce7",
        "id": "Wxc4w7uTFJWy",
        "colab": {
          "base_uri": "https://localhost:8080/",
          "height": 221
        }
      },
      "source": [
        "category_train_df = X.select_dtypes(include=['object']).copy()\n",
        "print(\"cateegorical data is\")\n",
        "category_train_df.head()"
      ],
      "execution_count": 63,
      "outputs": [
        {
          "output_type": "stream",
          "text": [
            "cateegorical data is\n"
          ],
          "name": "stdout"
        },
        {
          "output_type": "execute_result",
          "data": {
            "text/html": [
              "<div>\n",
              "<style scoped>\n",
              "    .dataframe tbody tr th:only-of-type {\n",
              "        vertical-align: middle;\n",
              "    }\n",
              "\n",
              "    .dataframe tbody tr th {\n",
              "        vertical-align: top;\n",
              "    }\n",
              "\n",
              "    .dataframe thead th {\n",
              "        text-align: right;\n",
              "    }\n",
              "</style>\n",
              "<table border=\"1\" class=\"dataframe\">\n",
              "  <thead>\n",
              "    <tr style=\"text-align: right;\">\n",
              "      <th></th>\n",
              "      <th>IndustryTemplateCode</th>\n",
              "      <th>CompanyId</th>\n",
              "      <th>MsId</th>\n",
              "      <th>MS ReportedName</th>\n",
              "      <th>Company ReportedName</th>\n",
              "      <th>SectorName</th>\n",
              "      <th>IndustryName</th>\n",
              "      <th>CountryId</th>\n",
              "    </tr>\n",
              "  </thead>\n",
              "  <tbody>\n",
              "    <tr>\n",
              "      <th>0</th>\n",
              "      <td>N</td>\n",
              "      <td>0C0000099P</td>\n",
              "      <td>V2ID000003</td>\n",
              "      <td>ASSETS</td>\n",
              "      <td>ASSETS</td>\n",
              "      <td>Energy</td>\n",
              "      <td>Oil &amp; Gas E&amp;P</td>\n",
              "      <td>CAN</td>\n",
              "    </tr>\n",
              "    <tr>\n",
              "      <th>1</th>\n",
              "      <td>N</td>\n",
              "      <td>0C0000099P</td>\n",
              "      <td>V2ID000003</td>\n",
              "      <td>Current assets</td>\n",
              "      <td>Current assets</td>\n",
              "      <td>Energy</td>\n",
              "      <td>Oil &amp; Gas E&amp;P</td>\n",
              "      <td>CAN</td>\n",
              "    </tr>\n",
              "    <tr>\n",
              "      <th>2</th>\n",
              "      <td>N</td>\n",
              "      <td>0C0000099P</td>\n",
              "      <td>IFBS200660</td>\n",
              "      <td>Trade and other receivables</td>\n",
              "      <td>Trade and other receivables</td>\n",
              "      <td>Energy</td>\n",
              "      <td>Oil &amp; Gas E&amp;P</td>\n",
              "      <td>CAN</td>\n",
              "    </tr>\n",
              "    <tr>\n",
              "      <th>3</th>\n",
              "      <td>N</td>\n",
              "      <td>0C0000099P</td>\n",
              "      <td>IFBS100688</td>\n",
              "      <td>Prepaid expenses and deposits</td>\n",
              "      <td>Prepaid expenses and deposits</td>\n",
              "      <td>Energy</td>\n",
              "      <td>Oil &amp; Gas E&amp;P</td>\n",
              "      <td>CAN</td>\n",
              "    </tr>\n",
              "    <tr>\n",
              "      <th>4</th>\n",
              "      <td>N</td>\n",
              "      <td>0C0000099P</td>\n",
              "      <td>IFBS002631</td>\n",
              "      <td>Derivative asset</td>\n",
              "      <td>Derivative asset</td>\n",
              "      <td>Energy</td>\n",
              "      <td>Oil &amp; Gas E&amp;P</td>\n",
              "      <td>CAN</td>\n",
              "    </tr>\n",
              "  </tbody>\n",
              "</table>\n",
              "</div>"
            ],
            "text/plain": [
              "  IndustryTemplateCode   CompanyId  ...   IndustryName CountryId\n",
              "0                    N  0C0000099P  ...  Oil & Gas E&P       CAN\n",
              "1                    N  0C0000099P  ...  Oil & Gas E&P       CAN\n",
              "2                    N  0C0000099P  ...  Oil & Gas E&P       CAN\n",
              "3                    N  0C0000099P  ...  Oil & Gas E&P       CAN\n",
              "4                    N  0C0000099P  ...  Oil & Gas E&P       CAN\n",
              "\n",
              "[5 rows x 8 columns]"
            ]
          },
          "metadata": {
            "tags": []
          },
          "execution_count": 63
        }
      ]
    },
    {
      "cell_type": "code",
      "metadata": {
        "id": "v2OT8ocwHXu4",
        "colab_type": "code",
        "outputId": "cb0dc4d9-0e35-4ed2-b86a-b15c5bc96b7e",
        "colab": {
          "base_uri": "https://localhost:8080/",
          "height": 421
        }
      },
      "source": [
        "total_missing_values = X.isnull().sum().sort_values(ascending=False)\n",
        "percentage_missing_values = (X.isnull().sum() / X.isnull().count()).sort_values(ascending =False)\n",
        "missing_data = pd.concat([total_missing_values, percentage_missing_values], keys = ['Total', 'Percentage'], axis=1)\n",
        "missing_data.head(20)\n"
      ],
      "execution_count": 78,
      "outputs": [
        {
          "output_type": "execute_result",
          "data": {
            "text/html": [
              "<div>\n",
              "<style scoped>\n",
              "    .dataframe tbody tr th:only-of-type {\n",
              "        vertical-align: middle;\n",
              "    }\n",
              "\n",
              "    .dataframe tbody tr th {\n",
              "        vertical-align: top;\n",
              "    }\n",
              "\n",
              "    .dataframe thead th {\n",
              "        text-align: right;\n",
              "    }\n",
              "</style>\n",
              "<table border=\"1\" class=\"dataframe\">\n",
              "  <thead>\n",
              "    <tr style=\"text-align: right;\">\n",
              "      <th></th>\n",
              "      <th>Total</th>\n",
              "      <th>Percentage</th>\n",
              "    </tr>\n",
              "  </thead>\n",
              "  <tbody>\n",
              "    <tr>\n",
              "      <th>CountryId</th>\n",
              "      <td>0</td>\n",
              "      <td>0.0</td>\n",
              "    </tr>\n",
              "    <tr>\n",
              "      <th>FileSource</th>\n",
              "      <td>0</td>\n",
              "      <td>0.0</td>\n",
              "    </tr>\n",
              "    <tr>\n",
              "      <th>AMItemId</th>\n",
              "      <td>0</td>\n",
              "      <td>0.0</td>\n",
              "    </tr>\n",
              "    <tr>\n",
              "      <th>IndustryName</th>\n",
              "      <td>0</td>\n",
              "      <td>0.0</td>\n",
              "    </tr>\n",
              "    <tr>\n",
              "      <th>SectorName</th>\n",
              "      <td>0</td>\n",
              "      <td>0.0</td>\n",
              "    </tr>\n",
              "    <tr>\n",
              "      <th>Company ReportedName</th>\n",
              "      <td>0</td>\n",
              "      <td>0.0</td>\n",
              "    </tr>\n",
              "    <tr>\n",
              "      <th>MS ReportedName</th>\n",
              "      <td>0</td>\n",
              "      <td>0.0</td>\n",
              "    </tr>\n",
              "    <tr>\n",
              "      <th>MsId</th>\n",
              "      <td>0</td>\n",
              "      <td>0.0</td>\n",
              "    </tr>\n",
              "    <tr>\n",
              "      <th>CompanyId</th>\n",
              "      <td>0</td>\n",
              "      <td>0.0</td>\n",
              "    </tr>\n",
              "    <tr>\n",
              "      <th>FileId</th>\n",
              "      <td>0</td>\n",
              "      <td>0.0</td>\n",
              "    </tr>\n",
              "    <tr>\n",
              "      <th>IndustryTemplateCode</th>\n",
              "      <td>0</td>\n",
              "      <td>0.0</td>\n",
              "    </tr>\n",
              "    <tr>\n",
              "      <th>TableTypeId</th>\n",
              "      <td>0</td>\n",
              "      <td>0.0</td>\n",
              "    </tr>\n",
              "  </tbody>\n",
              "</table>\n",
              "</div>"
            ],
            "text/plain": [
              "                      Total  Percentage\n",
              "CountryId                 0         0.0\n",
              "FileSource                0         0.0\n",
              "AMItemId                  0         0.0\n",
              "IndustryName              0         0.0\n",
              "SectorName                0         0.0\n",
              "Company ReportedName      0         0.0\n",
              "MS ReportedName           0         0.0\n",
              "MsId                      0         0.0\n",
              "CompanyId                 0         0.0\n",
              "FileId                    0         0.0\n",
              "IndustryTemplateCode      0         0.0\n",
              "TableTypeId               0         0.0"
            ]
          },
          "metadata": {
            "tags": []
          },
          "execution_count": 78
        }
      ]
    },
    {
      "cell_type": "code",
      "metadata": {
        "id": "Q3z_V00BIPKj",
        "colab_type": "code",
        "colab": {}
      },
      "source": [
        "#One Hot Encoding : Takes a categorical value and converts it to a binary vector of size n(no:of values in category)\n",
        "\n",
        "from sklearn.preprocessing import OneHotEncoder\n",
        "\n",
        "def oneHotEncoding(X):\n",
        "  oneHotencoder = OneHotEncoder(handle_unknown='ignore')\n",
        "  oneHotencoder.fit(X)\n",
        "  oneHotEncodedTrain = oneHotencoder.transform(X)\n",
        "  return oneHotEncodedTrain\n",
        "  print('One Hot Encoded train data looks like:\\n {}'.format(oneHotEncodedTrain))\n",
        "  print('One Hot Endcoded data has {} rows and {} columns'.format(oneHotEncodedTrain.shape[0], oneHotEncodedTrain.shape[1]))"
      ],
      "execution_count": 0,
      "outputs": []
    },
    {
      "cell_type": "code",
      "metadata": {
        "id": "ZmL2Z_bCKk6S",
        "colab_type": "code",
        "outputId": "543391e1-7947-4666-f560-05189c3a86f3",
        "colab": {
          "base_uri": "https://localhost:8080/",
          "height": 421
        }
      },
      "source": [
        ""
      ],
      "execution_count": 0,
      "outputs": [
        {
          "output_type": "execute_result",
          "data": {
            "text/html": [
              "<div>\n",
              "<style scoped>\n",
              "    .dataframe tbody tr th:only-of-type {\n",
              "        vertical-align: middle;\n",
              "    }\n",
              "\n",
              "    .dataframe tbody tr th {\n",
              "        vertical-align: top;\n",
              "    }\n",
              "\n",
              "    .dataframe thead th {\n",
              "        text-align: right;\n",
              "    }\n",
              "</style>\n",
              "<table border=\"1\" class=\"dataframe\">\n",
              "  <thead>\n",
              "    <tr style=\"text-align: right;\">\n",
              "      <th></th>\n",
              "      <th>Total</th>\n",
              "      <th>Percentage</th>\n",
              "    </tr>\n",
              "  </thead>\n",
              "  <tbody>\n",
              "    <tr>\n",
              "      <th>CountryId</th>\n",
              "      <td>0</td>\n",
              "      <td>0.0</td>\n",
              "    </tr>\n",
              "    <tr>\n",
              "      <th>FileSource</th>\n",
              "      <td>0</td>\n",
              "      <td>0.0</td>\n",
              "    </tr>\n",
              "    <tr>\n",
              "      <th>AMItemId</th>\n",
              "      <td>0</td>\n",
              "      <td>0.0</td>\n",
              "    </tr>\n",
              "    <tr>\n",
              "      <th>IndustryName</th>\n",
              "      <td>0</td>\n",
              "      <td>0.0</td>\n",
              "    </tr>\n",
              "    <tr>\n",
              "      <th>SectorName</th>\n",
              "      <td>0</td>\n",
              "      <td>0.0</td>\n",
              "    </tr>\n",
              "    <tr>\n",
              "      <th>Company ReportedName</th>\n",
              "      <td>0</td>\n",
              "      <td>0.0</td>\n",
              "    </tr>\n",
              "    <tr>\n",
              "      <th>MS ReportedName</th>\n",
              "      <td>0</td>\n",
              "      <td>0.0</td>\n",
              "    </tr>\n",
              "    <tr>\n",
              "      <th>MsId</th>\n",
              "      <td>0</td>\n",
              "      <td>0.0</td>\n",
              "    </tr>\n",
              "    <tr>\n",
              "      <th>CompanyId</th>\n",
              "      <td>0</td>\n",
              "      <td>0.0</td>\n",
              "    </tr>\n",
              "    <tr>\n",
              "      <th>FileId</th>\n",
              "      <td>0</td>\n",
              "      <td>0.0</td>\n",
              "    </tr>\n",
              "    <tr>\n",
              "      <th>IndustryTemplateCode</th>\n",
              "      <td>0</td>\n",
              "      <td>0.0</td>\n",
              "    </tr>\n",
              "    <tr>\n",
              "      <th>TableTypeId</th>\n",
              "      <td>0</td>\n",
              "      <td>0.0</td>\n",
              "    </tr>\n",
              "  </tbody>\n",
              "</table>\n",
              "</div>"
            ],
            "text/plain": [
              "                      Total  Percentage\n",
              "CountryId                 0         0.0\n",
              "FileSource                0         0.0\n",
              "AMItemId                  0         0.0\n",
              "IndustryName              0         0.0\n",
              "SectorName                0         0.0\n",
              "Company ReportedName      0         0.0\n",
              "MS ReportedName           0         0.0\n",
              "MsId                      0         0.0\n",
              "CompanyId                 0         0.0\n",
              "FileId                    0         0.0\n",
              "IndustryTemplateCode      0         0.0\n",
              "TableTypeId               0         0.0"
            ]
          },
          "metadata": {
            "tags": []
          },
          "execution_count": 149
        }
      ]
    },
    {
      "cell_type": "code",
      "metadata": {
        "id": "ebT80Z3YQJmo",
        "colab_type": "code",
        "colab": {}
      },
      "source": [
        "columnsToBeDropped = missing_data[missing_data['Total'] > 1].index"
      ],
      "execution_count": 0,
      "outputs": []
    },
    {
      "cell_type": "code",
      "metadata": {
        "id": "3t_kkYK6RKEN",
        "colab_type": "code",
        "outputId": "2546109c-395b-4f35-d8c7-39b041d223ed",
        "colab": {
          "base_uri": "https://localhost:8080/",
          "height": 34
        }
      },
      "source": [
        "print(columnsToBeDropped)"
      ],
      "execution_count": 66,
      "outputs": [
        {
          "output_type": "stream",
          "text": [
            "Index(['MS ReportedName', 'Company ReportedName', 'MsId'], dtype='object')\n"
          ],
          "name": "stdout"
        }
      ]
    },
    {
      "cell_type": "code",
      "metadata": {
        "id": "ZwgoppRoRMRp",
        "colab_type": "code",
        "colab": {}
      },
      "source": [
        "nullObservation = X.loc[X['MS ReportedName'].isnull()].index\n",
        "nullObservation2 = X.loc[X['Company ReportedName'].isnull()].index\n",
        "nullObservation3 = X.loc[X['MsId'].isnull()].index"
      ],
      "execution_count": 0,
      "outputs": []
    },
    {
      "cell_type": "code",
      "metadata": {
        "id": "pR1ACCW6Reqf",
        "colab_type": "code",
        "outputId": "d5207dd8-9260-408b-97dd-f7144cca1214",
        "colab": {
          "base_uri": "https://localhost:8080/",
          "height": 68
        }
      },
      "source": [
        "print(nullObservation)\n",
        "print(nullObservation2)\n",
        "print(nullObservation3)"
      ],
      "execution_count": 76,
      "outputs": [
        {
          "output_type": "stream",
          "text": [
            "Int64Index([], dtype='int64')\n",
            "Int64Index([113762, 148986, 195584, 204162, 212199, 223478, 233804, 234491], dtype='int64')\n",
            "Int64Index([21375, 32555, 43230, 61293, 95712, 120873, 127588, 169070, 183198], dtype='int64')\n"
          ],
          "name": "stdout"
        }
      ]
    },
    {
      "cell_type": "code",
      "metadata": {
        "id": "eos3GtKiRghU",
        "colab_type": "code",
        "colab": {}
      },
      "source": [
        "\n",
        "for obsv2 in nullObservation2:\n",
        "  X = X.drop(obsv2)\n",
        "\n",
        "for obsv3 in nullObservation3:\n",
        "  X = X.drop(obsv3)\n",
        "  "
      ],
      "execution_count": 0,
      "outputs": []
    },
    {
      "cell_type": "code",
      "metadata": {
        "id": "Y_YxjWAvR4IB",
        "colab_type": "code",
        "outputId": "dcf40033-b038-470e-befd-6da5bed2ebbc",
        "colab": {
          "base_uri": "https://localhost:8080/",
          "height": 51
        }
      },
      "source": [
        "#split data into X and target y\n",
        "train_data = X.copy()\n",
        "y = X['MsId']\n",
        "Xtrain = X.drop(['MsId'], axis=1)\n",
        "print(Xtrain.shape)\n",
        "print(y.shape)"
      ],
      "execution_count": 79,
      "outputs": [
        {
          "output_type": "stream",
          "text": [
            "(237878, 11)\n",
            "(237878,)\n"
          ],
          "name": "stdout"
        }
      ]
    },
    {
      "cell_type": "code",
      "metadata": {
        "id": "B6BpkS1I4fD1",
        "colab_type": "code",
        "colab": {
          "base_uri": "https://localhost:8080/",
          "height": 255
        },
        "outputId": "1619f6e7-a11e-424f-ecc9-198668009767"
      },
      "source": [
        "Xtrain.head()"
      ],
      "execution_count": 80,
      "outputs": [
        {
          "output_type": "execute_result",
          "data": {
            "text/html": [
              "<div>\n",
              "<style scoped>\n",
              "    .dataframe tbody tr th:only-of-type {\n",
              "        vertical-align: middle;\n",
              "    }\n",
              "\n",
              "    .dataframe tbody tr th {\n",
              "        vertical-align: top;\n",
              "    }\n",
              "\n",
              "    .dataframe thead th {\n",
              "        text-align: right;\n",
              "    }\n",
              "</style>\n",
              "<table border=\"1\" class=\"dataframe\">\n",
              "  <thead>\n",
              "    <tr style=\"text-align: right;\">\n",
              "      <th></th>\n",
              "      <th>TableTypeId</th>\n",
              "      <th>IndustryTemplateCode</th>\n",
              "      <th>FileId</th>\n",
              "      <th>CompanyId</th>\n",
              "      <th>MS ReportedName</th>\n",
              "      <th>Company ReportedName</th>\n",
              "      <th>SectorName</th>\n",
              "      <th>IndustryName</th>\n",
              "      <th>AMItemId</th>\n",
              "      <th>FileSource</th>\n",
              "      <th>CountryId</th>\n",
              "    </tr>\n",
              "  </thead>\n",
              "  <tbody>\n",
              "    <tr>\n",
              "      <th>0</th>\n",
              "      <td>1</td>\n",
              "      <td>N</td>\n",
              "      <td>31953224</td>\n",
              "      <td>0C0000099P</td>\n",
              "      <td>ASSETS</td>\n",
              "      <td>ASSETS</td>\n",
              "      <td>Energy</td>\n",
              "      <td>Oil &amp; Gas E&amp;P</td>\n",
              "      <td>6643918</td>\n",
              "      <td>2</td>\n",
              "      <td>CAN</td>\n",
              "    </tr>\n",
              "    <tr>\n",
              "      <th>1</th>\n",
              "      <td>1</td>\n",
              "      <td>N</td>\n",
              "      <td>31953224</td>\n",
              "      <td>0C0000099P</td>\n",
              "      <td>Current assets</td>\n",
              "      <td>Current assets</td>\n",
              "      <td>Energy</td>\n",
              "      <td>Oil &amp; Gas E&amp;P</td>\n",
              "      <td>6643919</td>\n",
              "      <td>2</td>\n",
              "      <td>CAN</td>\n",
              "    </tr>\n",
              "    <tr>\n",
              "      <th>2</th>\n",
              "      <td>1</td>\n",
              "      <td>N</td>\n",
              "      <td>31953224</td>\n",
              "      <td>0C0000099P</td>\n",
              "      <td>Trade and other receivables</td>\n",
              "      <td>Trade and other receivables</td>\n",
              "      <td>Energy</td>\n",
              "      <td>Oil &amp; Gas E&amp;P</td>\n",
              "      <td>6643920</td>\n",
              "      <td>2</td>\n",
              "      <td>CAN</td>\n",
              "    </tr>\n",
              "    <tr>\n",
              "      <th>3</th>\n",
              "      <td>1</td>\n",
              "      <td>N</td>\n",
              "      <td>31953224</td>\n",
              "      <td>0C0000099P</td>\n",
              "      <td>Prepaid expenses and deposits</td>\n",
              "      <td>Prepaid expenses and deposits</td>\n",
              "      <td>Energy</td>\n",
              "      <td>Oil &amp; Gas E&amp;P</td>\n",
              "      <td>6643921</td>\n",
              "      <td>2</td>\n",
              "      <td>CAN</td>\n",
              "    </tr>\n",
              "    <tr>\n",
              "      <th>4</th>\n",
              "      <td>1</td>\n",
              "      <td>N</td>\n",
              "      <td>31953224</td>\n",
              "      <td>0C0000099P</td>\n",
              "      <td>Derivative asset</td>\n",
              "      <td>Derivative asset</td>\n",
              "      <td>Energy</td>\n",
              "      <td>Oil &amp; Gas E&amp;P</td>\n",
              "      <td>6643922</td>\n",
              "      <td>2</td>\n",
              "      <td>CAN</td>\n",
              "    </tr>\n",
              "  </tbody>\n",
              "</table>\n",
              "</div>"
            ],
            "text/plain": [
              "   TableTypeId IndustryTemplateCode    FileId  ... AMItemId FileSource CountryId\n",
              "0            1                    N  31953224  ...  6643918          2       CAN\n",
              "1            1                    N  31953224  ...  6643919          2       CAN\n",
              "2            1                    N  31953224  ...  6643920          2       CAN\n",
              "3            1                    N  31953224  ...  6643921          2       CAN\n",
              "4            1                    N  31953224  ...  6643922          2       CAN\n",
              "\n",
              "[5 rows x 11 columns]"
            ]
          },
          "metadata": {
            "tags": []
          },
          "execution_count": 80
        }
      ]
    },
    {
      "cell_type": "code",
      "metadata": {
        "id": "o08qcJQ-R8qr",
        "colab_type": "code",
        "outputId": "ce91dcd0-6c61-4ed4-ded7-1dfc67ee6272",
        "colab": {
          "base_uri": "https://localhost:8080/",
          "height": 221
        }
      },
      "source": [
        "from sklearn.preprocessing import LabelEncoder\n",
        "cat_labeled = Xtrain.copy()\n",
        "#cat_labeled = cat_labeled.astype('category').dtypes\n",
        "LE = LabelEncoder()\n",
        "cat_labeled.head()\n",
        "#print(cat_labeled.dtypes)\n",
        "cat_labeled['IndustryTemplateCode'] =  LE.fit_transform(Xtrain['IndustryTemplateCode'])\n",
        "cat_labeled['CompanyId'] =  LE.fit_transform(Xtrain['CompanyId'])\n",
        "cat_labeled['MS ReportedName'] =  LE.fit_transform(Xtrain['MS ReportedName'])\n",
        "cat_labeled['Company ReportedName'] =  LE.fit_transform(Xtrain['Company ReportedName'])\n",
        "cat_labeled['SectorName'] =  LE.fit_transform(Xtrain['SectorName'])\n",
        "cat_labeled['IndustryName'] =  LE.fit_transform(Xtrain['IndustryName'])\n",
        "cat_labeled['CountryId'] =  LE.fit_transform(Xtrain['CountryId'])\n",
        "cat_labeled.head()"
      ],
      "execution_count": 89,
      "outputs": [
        {
          "output_type": "execute_result",
          "data": {
            "text/html": [
              "<div>\n",
              "<style scoped>\n",
              "    .dataframe tbody tr th:only-of-type {\n",
              "        vertical-align: middle;\n",
              "    }\n",
              "\n",
              "    .dataframe tbody tr th {\n",
              "        vertical-align: top;\n",
              "    }\n",
              "\n",
              "    .dataframe thead th {\n",
              "        text-align: right;\n",
              "    }\n",
              "</style>\n",
              "<table border=\"1\" class=\"dataframe\">\n",
              "  <thead>\n",
              "    <tr style=\"text-align: right;\">\n",
              "      <th></th>\n",
              "      <th>TableTypeId</th>\n",
              "      <th>IndustryTemplateCode</th>\n",
              "      <th>FileId</th>\n",
              "      <th>CompanyId</th>\n",
              "      <th>MS ReportedName</th>\n",
              "      <th>Company ReportedName</th>\n",
              "      <th>SectorName</th>\n",
              "      <th>IndustryName</th>\n",
              "      <th>AMItemId</th>\n",
              "      <th>FileSource</th>\n",
              "      <th>CountryId</th>\n",
              "    </tr>\n",
              "  </thead>\n",
              "  <tbody>\n",
              "    <tr>\n",
              "      <th>0</th>\n",
              "      <td>1</td>\n",
              "      <td>1</td>\n",
              "      <td>31953224</td>\n",
              "      <td>4</td>\n",
              "      <td>70</td>\n",
              "      <td>81</td>\n",
              "      <td>4</td>\n",
              "      <td>66</td>\n",
              "      <td>6643918</td>\n",
              "      <td>2</td>\n",
              "      <td>0</td>\n",
              "    </tr>\n",
              "    <tr>\n",
              "      <th>1</th>\n",
              "      <td>1</td>\n",
              "      <td>1</td>\n",
              "      <td>31953224</td>\n",
              "      <td>4</td>\n",
              "      <td>1344</td>\n",
              "      <td>1972</td>\n",
              "      <td>4</td>\n",
              "      <td>66</td>\n",
              "      <td>6643919</td>\n",
              "      <td>2</td>\n",
              "      <td>0</td>\n",
              "    </tr>\n",
              "    <tr>\n",
              "      <th>2</th>\n",
              "      <td>1</td>\n",
              "      <td>1</td>\n",
              "      <td>31953224</td>\n",
              "      <td>4</td>\n",
              "      <td>6942</td>\n",
              "      <td>9664</td>\n",
              "      <td>4</td>\n",
              "      <td>66</td>\n",
              "      <td>6643920</td>\n",
              "      <td>2</td>\n",
              "      <td>0</td>\n",
              "    </tr>\n",
              "    <tr>\n",
              "      <th>3</th>\n",
              "      <td>1</td>\n",
              "      <td>1</td>\n",
              "      <td>31953224</td>\n",
              "      <td>4</td>\n",
              "      <td>5128</td>\n",
              "      <td>7135</td>\n",
              "      <td>4</td>\n",
              "      <td>66</td>\n",
              "      <td>6643921</td>\n",
              "      <td>2</td>\n",
              "      <td>0</td>\n",
              "    </tr>\n",
              "    <tr>\n",
              "      <th>4</th>\n",
              "      <td>1</td>\n",
              "      <td>1</td>\n",
              "      <td>31953224</td>\n",
              "      <td>4</td>\n",
              "      <td>2187</td>\n",
              "      <td>3074</td>\n",
              "      <td>4</td>\n",
              "      <td>66</td>\n",
              "      <td>6643922</td>\n",
              "      <td>2</td>\n",
              "      <td>0</td>\n",
              "    </tr>\n",
              "  </tbody>\n",
              "</table>\n",
              "</div>"
            ],
            "text/plain": [
              "   TableTypeId  IndustryTemplateCode    FileId  ...  AMItemId  FileSource  CountryId\n",
              "0            1                     1  31953224  ...   6643918           2          0\n",
              "1            1                     1  31953224  ...   6643919           2          0\n",
              "2            1                     1  31953224  ...   6643920           2          0\n",
              "3            1                     1  31953224  ...   6643921           2          0\n",
              "4            1                     1  31953224  ...   6643922           2          0\n",
              "\n",
              "[5 rows x 11 columns]"
            ]
          },
          "metadata": {
            "tags": []
          },
          "execution_count": 89
        }
      ]
    },
    {
      "cell_type": "code",
      "metadata": {
        "id": "mNsQXqMA6OAG",
        "colab_type": "code",
        "colab": {
          "base_uri": "https://localhost:8080/",
          "height": 51
        },
        "outputId": "274eeb9b-2dbf-4931-88de-da0ff27b39cd"
      },
      "source": [
        "cat_labeled_y = LE.fit_transform(y)\n",
        "print(cat_labeled_y.shape)\n",
        "print(cat_labeled_y[0:30000])"
      ],
      "execution_count": 101,
      "outputs": [
        {
          "output_type": "stream",
          "text": [
            "(237878,)\n",
            "[239 239 234 ...  60 239 239]\n"
          ],
          "name": "stdout"
        }
      ]
    },
    {
      "cell_type": "code",
      "metadata": {
        "id": "raIsj4CnSFhb",
        "colab_type": "code",
        "outputId": "71d2bbbb-ba68-47b3-e040-2a7b2018accc",
        "colab": {
          "base_uri": "https://localhost:8080/",
          "height": 136
        }
      },
      "source": [
        "from sklearn.model_selection import train_test_split\n",
        "from xgboost import XGBClassifier\n",
        "#split data into train and test sets\n",
        "\n",
        "X_train, X_test, y_train, y_test = train_test_split(cat_labeled[0:30000], cat_labeled_y[0:30000], test_size=0.33)\n",
        "\n",
        "#fit model \n",
        "model = XGBClassifier()\n",
        "model.fit(X_train, y_train)\n",
        "\n",
        "print(model)\n"
      ],
      "execution_count": 105,
      "outputs": [
        {
          "output_type": "stream",
          "text": [
            "XGBClassifier(base_score=0.5, booster='gbtree', colsample_bylevel=1,\n",
            "              colsample_bynode=1, colsample_bytree=1, gamma=0,\n",
            "              learning_rate=0.1, max_delta_step=0, max_depth=3,\n",
            "              min_child_weight=1, missing=None, n_estimators=100, n_jobs=1,\n",
            "              nthread=None, objective='multi:softprob', random_state=0,\n",
            "              reg_alpha=0, reg_lambda=1, scale_pos_weight=1, seed=None,\n",
            "              silent=None, subsample=1, verbosity=1)\n"
          ],
          "name": "stdout"
        }
      ]
    },
    {
      "cell_type": "code",
      "metadata": {
        "id": "IrmDmE95SJS4",
        "colab_type": "code",
        "colab": {}
      },
      "source": [
        "#make predictions for test data\n",
        "y_pred = model.predict(X_test)"
      ],
      "execution_count": 0,
      "outputs": []
    },
    {
      "cell_type": "code",
      "metadata": {
        "id": "Mn6jvgFPSVJx",
        "colab_type": "code",
        "colab": {
          "base_uri": "https://localhost:8080/",
          "height": 153
        },
        "outputId": "8d76d505-4520-4337-aab9-0d7860f33765"
      },
      "source": [
        "from sklearn.metrics import accuracy_score, confusion_matrix\n",
        "\n",
        "accuracy = accuracy_score(y_test, y_pred)\n",
        "print(\"Accurancy: %.2f%%\" %(accuracy * 100.0))\n",
        "\n",
        "confusionMatrix = confusion_matrix(y_test, y_pred)\n",
        "print(\"Confusion Matrix: {}\", confusionMatrix)"
      ],
      "execution_count": 108,
      "outputs": [
        {
          "output_type": "stream",
          "text": [
            "Accurancy: 75.02%\n",
            "Confusion Matrix: {} [[ 228    0    0 ...    0    0    0]\n",
            " [   5  251    0 ...    0    0    2]\n",
            " [   0    0    1 ...    0    0    0]\n",
            " ...\n",
            " [   0    0    0 ...    5    0    0]\n",
            " [   0    0    0 ...    0   27    2]\n",
            " [   0    5    0 ...    0    2 1828]]\n"
          ],
          "name": "stdout"
        }
      ]
    },
    {
      "cell_type": "code",
      "metadata": {
        "id": "QiFBKfEAEjXs",
        "colab_type": "code",
        "colab": {}
      },
      "source": [
        ""
      ],
      "execution_count": 0,
      "outputs": []
    }
  ]
}